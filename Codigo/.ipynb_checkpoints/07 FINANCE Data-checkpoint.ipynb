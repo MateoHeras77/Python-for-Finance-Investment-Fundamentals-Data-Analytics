{
 "cells": [
  {
   "cell_type": "markdown",
   "metadata": {},
   "source": [
    "# Sources\n",
    "## API:\n",
    "Quandl.  \n",
    "Alpha Vantage.  \n",
    "MorningStar.  \n",
    "iex.  \n",
    "Yahoo Finance   \n",
    "Google Finance"
   ]
  },
  {
   "cell_type": "code",
   "execution_count": 1,
   "metadata": {},
   "outputs": [],
   "source": [
    "import numpy as np\n",
    "import pandas as pd"
   ]
  },
  {
   "cell_type": "code",
   "execution_count": 2,
   "metadata": {},
   "outputs": [
    {
     "data": {
      "text/plain": [
       "0    0.461136\n",
       "1    0.425669\n",
       "2    0.173992\n",
       "3    0.142177\n",
       "4    0.401327\n",
       "Name: Column 1, dtype: float64"
      ]
     },
     "execution_count": 2,
     "metadata": {},
     "output_type": "execute_result"
    }
   ],
   "source": [
    "ser = pd.Series(np.random.random(5),name=\"Column 1\") #Series: Para que sea tipo Comlumna \n",
    "ser"
   ]
  },
  {
   "cell_type": "code",
   "execution_count": 3,
   "metadata": {},
   "outputs": [
    {
     "data": {
      "text/plain": [
       "0.1739919526455329"
      ]
     },
     "execution_count": 3,
     "metadata": {},
     "output_type": "execute_result"
    }
   ],
   "source": [
    "ser[2]"
   ]
  },
  {
   "cell_type": "code",
   "execution_count": 4,
   "metadata": {},
   "outputs": [],
   "source": [
    "from pandas_datareader import data as wb"
   ]
  },
  {
   "cell_type": "code",
   "execution_count": 5,
   "metadata": {},
   "outputs": [
    {
     "data": {
      "text/html": [
       "<div>\n",
       "<style scoped>\n",
       "    .dataframe tbody tr th:only-of-type {\n",
       "        vertical-align: middle;\n",
       "    }\n",
       "\n",
       "    .dataframe tbody tr th {\n",
       "        vertical-align: top;\n",
       "    }\n",
       "\n",
       "    .dataframe thead th {\n",
       "        text-align: right;\n",
       "    }\n",
       "</style>\n",
       "<table border=\"1\" class=\"dataframe\">\n",
       "  <thead>\n",
       "    <tr style=\"text-align: right;\">\n",
       "      <th></th>\n",
       "      <th>High</th>\n",
       "      <th>Low</th>\n",
       "      <th>Open</th>\n",
       "      <th>Close</th>\n",
       "      <th>Volume</th>\n",
       "      <th>Adj Close</th>\n",
       "    </tr>\n",
       "    <tr>\n",
       "      <th>Date</th>\n",
       "      <th></th>\n",
       "      <th></th>\n",
       "      <th></th>\n",
       "      <th></th>\n",
       "      <th></th>\n",
       "      <th></th>\n",
       "    </tr>\n",
       "  </thead>\n",
       "  <tbody>\n",
       "    <tr>\n",
       "      <th>1995-01-03</th>\n",
       "      <td>15.625000</td>\n",
       "      <td>15.437500</td>\n",
       "      <td>15.468750</td>\n",
       "      <td>15.593750</td>\n",
       "      <td>3318400.0</td>\n",
       "      <td>8.166473</td>\n",
       "    </tr>\n",
       "    <tr>\n",
       "      <th>1995-01-04</th>\n",
       "      <td>15.656250</td>\n",
       "      <td>15.312500</td>\n",
       "      <td>15.531250</td>\n",
       "      <td>15.468750</td>\n",
       "      <td>2218800.0</td>\n",
       "      <td>8.101009</td>\n",
       "    </tr>\n",
       "    <tr>\n",
       "      <th>1995-01-05</th>\n",
       "      <td>15.437500</td>\n",
       "      <td>15.218750</td>\n",
       "      <td>15.375000</td>\n",
       "      <td>15.250000</td>\n",
       "      <td>2319600.0</td>\n",
       "      <td>7.986450</td>\n",
       "    </tr>\n",
       "    <tr>\n",
       "      <th>1995-01-06</th>\n",
       "      <td>15.406250</td>\n",
       "      <td>15.156250</td>\n",
       "      <td>15.156250</td>\n",
       "      <td>15.281250</td>\n",
       "      <td>3438000.0</td>\n",
       "      <td>8.002816</td>\n",
       "    </tr>\n",
       "    <tr>\n",
       "      <th>1995-01-09</th>\n",
       "      <td>15.406250</td>\n",
       "      <td>15.187500</td>\n",
       "      <td>15.343750</td>\n",
       "      <td>15.218750</td>\n",
       "      <td>1795200.0</td>\n",
       "      <td>7.970086</td>\n",
       "    </tr>\n",
       "    <tr>\n",
       "      <th>...</th>\n",
       "      <td>...</td>\n",
       "      <td>...</td>\n",
       "      <td>...</td>\n",
       "      <td>...</td>\n",
       "      <td>...</td>\n",
       "      <td>...</td>\n",
       "    </tr>\n",
       "    <tr>\n",
       "      <th>2021-03-15</th>\n",
       "      <td>129.039993</td>\n",
       "      <td>127.190002</td>\n",
       "      <td>128.389999</td>\n",
       "      <td>128.559998</td>\n",
       "      <td>7172600.0</td>\n",
       "      <td>128.559998</td>\n",
       "    </tr>\n",
       "    <tr>\n",
       "      <th>2021-03-16</th>\n",
       "      <td>129.979996</td>\n",
       "      <td>128.509995</td>\n",
       "      <td>128.509995</td>\n",
       "      <td>128.940002</td>\n",
       "      <td>6417100.0</td>\n",
       "      <td>128.940002</td>\n",
       "    </tr>\n",
       "    <tr>\n",
       "      <th>2021-03-17</th>\n",
       "      <td>129.839996</td>\n",
       "      <td>128.350006</td>\n",
       "      <td>129.110001</td>\n",
       "      <td>128.419998</td>\n",
       "      <td>6179300.0</td>\n",
       "      <td>128.419998</td>\n",
       "    </tr>\n",
       "    <tr>\n",
       "      <th>2021-03-18</th>\n",
       "      <td>129.039993</td>\n",
       "      <td>127.040001</td>\n",
       "      <td>128.210007</td>\n",
       "      <td>128.699997</td>\n",
       "      <td>6866200.0</td>\n",
       "      <td>128.699997</td>\n",
       "    </tr>\n",
       "    <tr>\n",
       "      <th>2021-03-19</th>\n",
       "      <td>129.740005</td>\n",
       "      <td>127.900002</td>\n",
       "      <td>129.100006</td>\n",
       "      <td>128.009995</td>\n",
       "      <td>20034500.0</td>\n",
       "      <td>128.009995</td>\n",
       "    </tr>\n",
       "  </tbody>\n",
       "</table>\n",
       "<p>6600 rows × 6 columns</p>\n",
       "</div>"
      ],
      "text/plain": [
       "                  High         Low        Open       Close      Volume  \\\n",
       "Date                                                                     \n",
       "1995-01-03   15.625000   15.437500   15.468750   15.593750   3318400.0   \n",
       "1995-01-04   15.656250   15.312500   15.531250   15.468750   2218800.0   \n",
       "1995-01-05   15.437500   15.218750   15.375000   15.250000   2319600.0   \n",
       "1995-01-06   15.406250   15.156250   15.156250   15.281250   3438000.0   \n",
       "1995-01-09   15.406250   15.187500   15.343750   15.218750   1795200.0   \n",
       "...                ...         ...         ...         ...         ...   \n",
       "2021-03-15  129.039993  127.190002  128.389999  128.559998   7172600.0   \n",
       "2021-03-16  129.979996  128.509995  128.509995  128.940002   6417100.0   \n",
       "2021-03-17  129.839996  128.350006  129.110001  128.419998   6179300.0   \n",
       "2021-03-18  129.039993  127.040001  128.210007  128.699997   6866200.0   \n",
       "2021-03-19  129.740005  127.900002  129.100006  128.009995  20034500.0   \n",
       "\n",
       "             Adj Close  \n",
       "Date                    \n",
       "1995-01-03    8.166473  \n",
       "1995-01-04    8.101009  \n",
       "1995-01-05    7.986450  \n",
       "1995-01-06    8.002816  \n",
       "1995-01-09    7.970086  \n",
       "...                ...  \n",
       "2021-03-15  128.559998  \n",
       "2021-03-16  128.940002  \n",
       "2021-03-17  128.419998  \n",
       "2021-03-18  128.699997  \n",
       "2021-03-19  128.009995  \n",
       "\n",
       "[6600 rows x 6 columns]"
      ]
     },
     "execution_count": 5,
     "metadata": {},
     "output_type": "execute_result"
    }
   ],
   "source": [
    "PG = wb.DataReader('PG', data_source='yahoo', start = '1995-1-1') \n",
    "PG"
   ]
  },
  {
   "cell_type": "code",
   "execution_count": null,
   "metadata": {},
   "outputs": [],
   "source": []
  },
  {
   "cell_type": "code",
   "execution_count": null,
   "metadata": {},
   "outputs": [],
   "source": []
  },
  {
   "cell_type": "code",
   "execution_count": null,
   "metadata": {},
   "outputs": [],
   "source": []
  },
  {
   "cell_type": "code",
   "execution_count": null,
   "metadata": {},
   "outputs": [],
   "source": []
  },
  {
   "cell_type": "code",
   "execution_count": null,
   "metadata": {},
   "outputs": [],
   "source": []
  }
 ],
 "metadata": {
  "kernelspec": {
   "display_name": "Python 3",
   "language": "python",
   "name": "python3"
  },
  "language_info": {
   "codemirror_mode": {
    "name": "ipython",
    "version": 3
   },
   "file_extension": ".py",
   "mimetype": "text/x-python",
   "name": "python",
   "nbconvert_exporter": "python",
   "pygments_lexer": "ipython3",
   "version": "3.8.5"
  }
 },
 "nbformat": 4,
 "nbformat_minor": 4
}
