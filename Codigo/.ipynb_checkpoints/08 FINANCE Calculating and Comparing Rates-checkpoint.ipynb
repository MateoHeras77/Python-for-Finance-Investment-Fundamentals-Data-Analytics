{
 "cells": [
  {
   "cell_type": "markdown",
   "metadata": {},
   "source": [
    "# Profit vs Loss\n",
    "Bonds: Low Risk and return.  \n",
    "Stocks: Highr Risk, fluctuation and returns"
   ]
  },
  {
   "cell_type": "markdown",
   "metadata": {},
   "source": [
    "## Calculating return of a single investment\n",
    "\n",
    "### Las inversiones con diferentes periodos de tiempo no deberian compararse \n",
    "\n",
    "Simple rate of return:\n",
    "$$\n",
    "\\frac{ending price - beginning price}{beginning price} = \\frac{ending price}{beginning price} - 1\n",
    "$$\n",
    "*Es mejor usarlos cuando tenemos multiples activos en un mismo corte de tiempo*   \n",
    "\n",
    "Logarithmic rate of return:\n",
    "$$\n",
    "log(\\frac{ending price}{beginning price})\n",
    "$$   \n",
    "*Es mejor usar cuando tenemos un activo con un periodo largo de tiempo*   \n",
    "\n",
    "### TimeFrame\n",
    "annual return = [(daily return + 1)^365]*100 - 1\n"
   ]
  },
  {
   "cell_type": "code",
   "execution_count": null,
   "metadata": {},
   "outputs": [],
   "source": [
    "import numpy as np\n",
    "from pandas_datareader import data as wb\n",
    "import matplotlib.pyplot as plt\n",
    "import pandas as pd"
   ]
  },
  {
   "cell_type": "code",
   "execution_count": null,
   "metadata": {},
   "outputs": [],
   "source": [
    "PG = wb.DataReader('PG',data_source = 'yahoo', start = \"2000-1-1\")\n",
    "PG"
   ]
  },
  {
   "cell_type": "markdown",
   "metadata": {},
   "source": [
    "# Simple Return Example Daily\n",
    "$$\n",
    "\\frac{P_1 - P_0}{P_0} = \\frac{P_1}{P_0} - 1\n",
    "$$\n",
    "## pandas.DataFrame.shift( # of lags)\n"
   ]
  },
  {
   "cell_type": "code",
   "execution_count": null,
   "metadata": {},
   "outputs": [],
   "source": [
    "PG['Simple-Return'] = (PG['Adj Close']/PG['Adj Close'].shift(1)) -1\n",
    "PG['Simple-Return']"
   ]
  },
  {
   "cell_type": "code",
   "execution_count": null,
   "metadata": {},
   "outputs": [],
   "source": [
    "PG['Simple-Return'].plot(figsize=(18,5))\n",
    "plt.show()"
   ]
  },
  {
   "cell_type": "code",
   "execution_count": null,
   "metadata": {},
   "outputs": [],
   "source": [
    "avg_returns_d= PG['Simple-Return'].mean()\n",
    "avg_returns_d"
   ]
  },
  {
   "cell_type": "code",
   "execution_count": null,
   "metadata": {},
   "outputs": [],
   "source": [
    "avg_returns_a= PG['Simple-Return'].mean() * 250 #Debido a que las nogeciaciones no se hacen fds\n",
    "avg_returns_a"
   ]
  },
  {
   "cell_type": "code",
   "execution_count": null,
   "metadata": {},
   "outputs": [],
   "source": [
    "print (str(round(avg_returns_a,5) * 100)+ \"%\")"
   ]
  },
  {
   "cell_type": "markdown",
   "metadata": {},
   "source": [
    "# Logarithmic Return Example Daily\n",
    "$$\n",
    "log(\\frac{P_1}{P_0})\n",
    "$$"
   ]
  },
  {
   "cell_type": "code",
   "execution_count": null,
   "metadata": {},
   "outputs": [],
   "source": [
    "PG['Log-Prices']=np.log(PG['Adj Close'])\n",
    "PG['Log-Prices']"
   ]
  },
  {
   "cell_type": "code",
   "execution_count": null,
   "metadata": {},
   "outputs": [],
   "source": [
    "PG['Log-Return']=np.log(PG['Adj Close']/PG['Adj Close'].shift(1))\n",
    "PG['Log-Return'].plot(figsize =(18,5))"
   ]
  },
  {
   "cell_type": "code",
   "execution_count": null,
   "metadata": {},
   "outputs": [],
   "source": [
    "avr_log_Returns = PG['Log-Return'].mean()*250\n",
    "print (str(round(avr_log_Returns,5) * 100) + \"%\")"
   ]
  },
  {
   "cell_type": "code",
   "execution_count": null,
   "metadata": {},
   "outputs": [],
   "source": [
    "del PG['Log-Prices']\n",
    "PG"
   ]
  },
  {
   "cell_type": "markdown",
   "metadata": {},
   "source": [
    "# Calculating return of multiple investment\n",
    "## Calculating the rate of return of a portafolio\n",
    "RP= rate of return for a security * weight in portafolio   \n",
    "## Normalization 100\n",
    "$$\n",
    "\\frac{P_t}{P_0} * 100 \n",
    "$$"
   ]
  },
  {
   "cell_type": "code",
   "execution_count": null,
   "metadata": {},
   "outputs": [],
   "source": [
    "tickets = ['AAPL','F', 'PFE','MSFT']\n",
    "stocks =pd.DataFrame()\n",
    "for t in tickets:\n",
    "    stocks[t]= wb.DataReader(t,data_source = 'yahoo', start = '2000-1-1')['Adj Close']\n",
    "\n",
    "stocks.head()   \n"
   ]
  },
  {
   "cell_type": "code",
   "execution_count": null,
   "metadata": {},
   "outputs": [],
   "source": [
    "stocks.plot(figsize=(15,5))"
   ]
  },
  {
   "cell_type": "code",
   "execution_count": null,
   "metadata": {},
   "outputs": [],
   "source": [
    "#Normalizacion\n",
    "(stocks / stocks.iloc[0] * 100).head()\n",
    "(stocks / stocks.iloc[0] * 100).plot(figsize=(16,4))"
   ]
  },
  {
   "cell_type": "code",
   "execution_count": null,
   "metadata": {},
   "outputs": [],
   "source": [
    "(stocks / stocks.iloc[0] * 100).tail()"
   ]
  },
  {
   "cell_type": "code",
   "execution_count": null,
   "metadata": {},
   "outputs": [],
   "source": [
    "# Retornos\n",
    "returns =(stocks/stocks.shift(1) -1).mean() * 250"
   ]
  },
  {
   "cell_type": "code",
   "execution_count": null,
   "metadata": {},
   "outputs": [],
   "source": [
    "weight =np.array([0.25,0.25,0.25,0.25])\n",
    "weight"
   ]
  },
  {
   "cell_type": "code",
   "execution_count": null,
   "metadata": {},
   "outputs": [],
   "source": [
    "print (str(round(np.dot(returns , weight)*100,5)) + \"%\")"
   ]
  },
  {
   "cell_type": "code",
   "execution_count": null,
   "metadata": {},
   "outputs": [],
   "source": []
  }
 ],
 "metadata": {
  "kernelspec": {
   "display_name": "Python 3",
   "language": "python",
   "name": "python3"
  },
  "language_info": {
   "codemirror_mode": {
    "name": "ipython",
    "version": 3
   },
   "file_extension": ".py",
   "mimetype": "text/x-python",
   "name": "python",
   "nbconvert_exporter": "python",
   "pygments_lexer": "ipython3",
   "version": "3.8.5"
  }
 },
 "nbformat": 4,
 "nbformat_minor": 4
}
