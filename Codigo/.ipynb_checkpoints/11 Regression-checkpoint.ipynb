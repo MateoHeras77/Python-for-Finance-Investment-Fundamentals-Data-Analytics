{
 "cells": [
  {
   "cell_type": "code",
   "execution_count": 15,
   "metadata": {},
   "outputs": [],
   "source": [
    "import numpy as np\n",
    "import pandas as pd\n",
    "\n",
    "from scipy import stats\n",
    "import statsmodels.api as sm\n",
    "\n",
    "import matplotlib.pyplot as plt"
   ]
  },
  {
   "cell_type": "code",
   "execution_count": 2,
   "metadata": {},
   "outputs": [
    {
     "data": {
      "text/html": [
       "<div>\n",
       "<style scoped>\n",
       "    .dataframe tbody tr th:only-of-type {\n",
       "        vertical-align: middle;\n",
       "    }\n",
       "\n",
       "    .dataframe tbody tr th {\n",
       "        vertical-align: top;\n",
       "    }\n",
       "\n",
       "    .dataframe thead th {\n",
       "        text-align: right;\n",
       "    }\n",
       "</style>\n",
       "<table border=\"1\" class=\"dataframe\">\n",
       "  <thead>\n",
       "    <tr style=\"text-align: right;\">\n",
       "      <th></th>\n",
       "      <th>House Price</th>\n",
       "      <th>House Size (sq.ft.)</th>\n",
       "      <th>State</th>\n",
       "      <th>Number of Rooms</th>\n",
       "      <th>Year of Construction</th>\n",
       "    </tr>\n",
       "  </thead>\n",
       "  <tbody>\n",
       "    <tr>\n",
       "      <th>0</th>\n",
       "      <td>1116000</td>\n",
       "      <td>1940</td>\n",
       "      <td>IN</td>\n",
       "      <td>8</td>\n",
       "      <td>2002</td>\n",
       "    </tr>\n",
       "    <tr>\n",
       "      <th>1</th>\n",
       "      <td>860000</td>\n",
       "      <td>1300</td>\n",
       "      <td>IN</td>\n",
       "      <td>5</td>\n",
       "      <td>1992</td>\n",
       "    </tr>\n",
       "    <tr>\n",
       "      <th>2</th>\n",
       "      <td>818400</td>\n",
       "      <td>1420</td>\n",
       "      <td>IN</td>\n",
       "      <td>6</td>\n",
       "      <td>1987</td>\n",
       "    </tr>\n",
       "    <tr>\n",
       "      <th>3</th>\n",
       "      <td>1000000</td>\n",
       "      <td>1680</td>\n",
       "      <td>IN</td>\n",
       "      <td>7</td>\n",
       "      <td>2000</td>\n",
       "    </tr>\n",
       "    <tr>\n",
       "      <th>4</th>\n",
       "      <td>640000</td>\n",
       "      <td>1270</td>\n",
       "      <td>IN</td>\n",
       "      <td>5</td>\n",
       "      <td>1995</td>\n",
       "    </tr>\n",
       "  </tbody>\n",
       "</table>\n",
       "</div>"
      ],
      "text/plain": [
       "   House Price  House Size (sq.ft.) State  Number of Rooms  \\\n",
       "0      1116000                 1940    IN                8   \n",
       "1       860000                 1300    IN                5   \n",
       "2       818400                 1420    IN                6   \n",
       "3      1000000                 1680    IN                7   \n",
       "4       640000                 1270    IN                5   \n",
       "\n",
       "   Year of Construction  \n",
       "0                  2002  \n",
       "1                  1992  \n",
       "2                  1987  \n",
       "3                  2000  \n",
       "4                  1995  "
      ]
     },
     "execution_count": 2,
     "metadata": {},
     "output_type": "execute_result"
    }
   ],
   "source": [
    "data = pd.read_excel(\"/Users/mateoherasvera/Desktop/GitHub/Python-for-Finance-Investment-Fundamentals-Data-Analytics/Python for Finance - Notebook Files/81 Running a Regression in Python/Python 3/Housing.xlsx\")\n",
    "data.head()"
   ]
  },
  {
   "cell_type": "code",
   "execution_count": 3,
   "metadata": {},
   "outputs": [
    {
     "data": {
      "text/html": [
       "<div>\n",
       "<style scoped>\n",
       "    .dataframe tbody tr th:only-of-type {\n",
       "        vertical-align: middle;\n",
       "    }\n",
       "\n",
       "    .dataframe tbody tr th {\n",
       "        vertical-align: top;\n",
       "    }\n",
       "\n",
       "    .dataframe thead th {\n",
       "        text-align: right;\n",
       "    }\n",
       "</style>\n",
       "<table border=\"1\" class=\"dataframe\">\n",
       "  <thead>\n",
       "    <tr style=\"text-align: right;\">\n",
       "      <th></th>\n",
       "      <th>House Price</th>\n",
       "      <th>House Size (sq.ft.)</th>\n",
       "    </tr>\n",
       "  </thead>\n",
       "  <tbody>\n",
       "    <tr>\n",
       "      <th>0</th>\n",
       "      <td>1116000</td>\n",
       "      <td>1940</td>\n",
       "    </tr>\n",
       "    <tr>\n",
       "      <th>1</th>\n",
       "      <td>860000</td>\n",
       "      <td>1300</td>\n",
       "    </tr>\n",
       "    <tr>\n",
       "      <th>2</th>\n",
       "      <td>818400</td>\n",
       "      <td>1420</td>\n",
       "    </tr>\n",
       "    <tr>\n",
       "      <th>3</th>\n",
       "      <td>1000000</td>\n",
       "      <td>1680</td>\n",
       "    </tr>\n",
       "    <tr>\n",
       "      <th>4</th>\n",
       "      <td>640000</td>\n",
       "      <td>1270</td>\n",
       "    </tr>\n",
       "  </tbody>\n",
       "</table>\n",
       "</div>"
      ],
      "text/plain": [
       "   House Price  House Size (sq.ft.)\n",
       "0      1116000                 1940\n",
       "1       860000                 1300\n",
       "2       818400                 1420\n",
       "3      1000000                 1680\n",
       "4       640000                 1270"
      ]
     },
     "execution_count": 3,
     "metadata": {},
     "output_type": "execute_result"
    }
   ],
   "source": [
    "data[['House Price','House Size (sq.ft.)']].head()"
   ]
  },
  {
   "cell_type": "code",
   "execution_count": 4,
   "metadata": {},
   "outputs": [],
   "source": [
    "y=data[['House Price']]\n",
    "x=data[['House Size (sq.ft.)']]"
   ]
  },
  {
   "cell_type": "code",
   "execution_count": 5,
   "metadata": {},
   "outputs": [
    {
     "data": {
      "text/plain": [
       "Text(0.5, 0, 'House Size (sq.ft.)')"
      ]
     },
     "execution_count": 5,
     "metadata": {},
     "output_type": "execute_result"
    },
    {
     "data": {
      "image/png": "[encoded data removed]",
      "text/plain": [
       "<Figure size 1296x576 with 1 Axes>"
      ]
     },
     "metadata": {
      "needs_background": "light"
     },
     "output_type": "display_data"
    }
   ],
   "source": [
    "plt.figure(figsize=(18, 8))\n",
    "plt.scatter(x,y)\n",
    "plt.axis([0,2500,0,1500000])\n",
    "plt.ylabel ('House Price')\n",
    "plt.xlabel ('House Size (sq.ft.)')"
   ]
  },
  {
   "cell_type": "markdown",
   "metadata": {},
   "source": [
    "# Regresion Simple"
   ]
  },
  {
   "cell_type": "code",
   "execution_count": 6,
   "metadata": {},
   "outputs": [],
   "source": [
    "X1= sm.add_constant(x)\n",
    "reg = sm.OLS(y,X1).fit()"
   ]
  },
  {
   "cell_type": "code",
   "execution_count": 7,
   "metadata": {},
   "outputs": [
    {
     "data": {
      "text/html": [
       "<table class=\"simpletable\">\n",
       "<caption>OLS Regression Results</caption>\n",
       "<tr>\n",
       "  <th>Dep. Variable:</th>       <td>House Price</td>   <th>  R-squared:         </th> <td>   0.678</td>\n",
       "</tr>\n",
       "<tr>\n",
       "  <th>Model:</th>                   <td>OLS</td>       <th>  Adj. R-squared:    </th> <td>   0.660</td>\n",
       "</tr>\n",
       "<tr>\n",
       "  <th>Method:</th>             <td>Least Squares</td>  <th>  F-statistic:       </th> <td>   37.95</td>\n",
       "</tr>\n",
       "<tr>\n",
       "  <th>Date:</th>             <td>Wed, 24 Mar 2021</td> <th>  Prob (F-statistic):</th> <td>8.13e-06</td>\n",
       "</tr>\n",
       "<tr>\n",
       "  <th>Time:</th>                 <td>16:24:52</td>     <th>  Log-Likelihood:    </th> <td> -260.43</td>\n",
       "</tr>\n",
       "<tr>\n",
       "  <th>No. Observations:</th>      <td>    20</td>      <th>  AIC:               </th> <td>   524.9</td>\n",
       "</tr>\n",
       "<tr>\n",
       "  <th>Df Residuals:</th>          <td>    18</td>      <th>  BIC:               </th> <td>   526.8</td>\n",
       "</tr>\n",
       "<tr>\n",
       "  <th>Df Model:</th>              <td>     1</td>      <th>                     </th>     <td> </td>   \n",
       "</tr>\n",
       "<tr>\n",
       "  <th>Covariance Type:</th>      <td>nonrobust</td>    <th>                     </th>     <td> </td>   \n",
       "</tr>\n",
       "</table>\n",
       "<table class=\"simpletable\">\n",
       "<tr>\n",
       "           <td></td>              <th>coef</th>     <th>std err</th>      <th>t</th>      <th>P>|t|</th>  <th>[0.025</th>    <th>0.975]</th>  \n",
       "</tr>\n",
       "<tr>\n",
       "  <th>const</th>               <td> 2.608e+05</td> <td> 9.76e+04</td> <td>    2.673</td> <td> 0.016</td> <td> 5.58e+04</td> <td> 4.66e+05</td>\n",
       "</tr>\n",
       "<tr>\n",
       "  <th>House Size (sq.ft.)</th> <td>  401.9163</td> <td>   65.243</td> <td>    6.160</td> <td> 0.000</td> <td>  264.846</td> <td>  538.987</td>\n",
       "</tr>\n",
       "</table>\n",
       "<table class=\"simpletable\">\n",
       "<tr>\n",
       "  <th>Omnibus:</th>       <td> 1.238</td> <th>  Durbin-Watson:     </th> <td>   1.810</td>\n",
       "</tr>\n",
       "<tr>\n",
       "  <th>Prob(Omnibus):</th> <td> 0.538</td> <th>  Jarque-Bera (JB):  </th> <td>   0.715</td>\n",
       "</tr>\n",
       "<tr>\n",
       "  <th>Skew:</th>          <td>-0.459</td> <th>  Prob(JB):          </th> <td>   0.699</td>\n",
       "</tr>\n",
       "<tr>\n",
       "  <th>Kurtosis:</th>      <td> 2.884</td> <th>  Cond. No.          </th> <td>5.66e+03</td>\n",
       "</tr>\n",
       "</table><br/><br/>Notes:<br/>[1] Standard Errors assume that the covariance matrix of the errors is correctly specified.<br/>[2] The condition number is large, 5.66e+03. This might indicate that there are<br/>strong multicollinearity or other numerical problems."
      ],
      "text/plain": [
       "<class 'statsmodels.iolib.summary.Summary'>\n",
       "\"\"\"\n",
       "                            OLS Regression Results                            \n",
       "==============================================================================\n",
       "Dep. Variable:            House Price   R-squared:                       0.678\n",
       "Model:                            OLS   Adj. R-squared:                  0.660\n",
       "Method:                 Least Squares   F-statistic:                     37.95\n",
       "Date:                Wed, 24 Mar 2021   Prob (F-statistic):           8.13e-06\n",
       "Time:                        16:24:52   Log-Likelihood:                -260.43\n",
       "No. Observations:                  20   AIC:                             524.9\n",
       "Df Residuals:                      18   BIC:                             526.8\n",
       "Df Model:                           1                                         \n",
       "Covariance Type:            nonrobust                                         \n",
       "=======================================================================================\n",
       "                          coef    std err          t      P>|t|      [0.025      0.975]\n",
       "---------------------------------------------------------------------------------------\n",
       "const                2.608e+05   9.76e+04      2.673      0.016    5.58e+04    4.66e+05\n",
       "House Size (sq.ft.)   401.9163     65.243      6.160      0.000     264.846     538.987\n",
       "==============================================================================\n",
       "Omnibus:                        1.238   Durbin-Watson:                   1.810\n",
       "Prob(Omnibus):                  0.538   Jarque-Bera (JB):                0.715\n",
       "Skew:                          -0.459   Prob(JB):                        0.699\n",
       "Kurtosis:                       2.884   Cond. No.                     5.66e+03\n",
       "==============================================================================\n",
       "\n",
       "Notes:\n",
       "[1] Standard Errors assume that the covariance matrix of the errors is correctly specified.\n",
       "[2] The condition number is large, 5.66e+03. This might indicate that there are\n",
       "strong multicollinearity or other numerical problems.\n",
       "\"\"\""
      ]
     },
     "execution_count": 7,
     "metadata": {},
     "output_type": "execute_result"
    }
   ],
   "source": [
    "reg.summary()"
   ]
  },
  {
   "cell_type": "markdown",
   "metadata": {},
   "source": [
    "# Estadisticos"
   ]
  },
  {
   "cell_type": "code",
   "execution_count": 8,
   "metadata": {},
   "outputs": [
    {
     "data": {
      "text/plain": [
       "const                  101356.497094\n",
       "House Size (sq.ft.)        76.947043\n",
       "dtype: float64"
      ]
     },
     "execution_count": 8,
     "metadata": {},
     "output_type": "execute_result"
    }
   ],
   "source": [
    "reg.HC1_se"
   ]
  },
  {
   "cell_type": "code",
   "execution_count": 9,
   "metadata": {},
   "outputs": [
    {
     "data": {
      "text/plain": [
       "const                  260806.236056\n",
       "House Size (sq.ft.)       401.916286\n",
       "dtype: float64"
      ]
     },
     "execution_count": 9,
     "metadata": {},
     "output_type": "execute_result"
    }
   ],
   "source": [
    "reg.params"
   ]
  },
  {
   "cell_type": "code",
   "execution_count": 10,
   "metadata": {
    "scrolled": true
   },
   "outputs": [
    {
     "data": {
      "text/plain": [
       "['HC0_se',\n",
       " 'HC1_se',\n",
       " 'HC2_se',\n",
       " 'HC3_se',\n",
       " '_HCCM',\n",
       " '__class__',\n",
       " '__delattr__',\n",
       " '__dict__',\n",
       " '__dir__',\n",
       " '__doc__',\n",
       " '__eq__',\n",
       " '__format__',\n",
       " '__ge__',\n",
       " '__getattribute__',\n",
       " '__gt__',\n",
       " '__hash__',\n",
       " '__init__',\n",
       " '__init_subclass__',\n",
       " '__le__',\n",
       " '__lt__',\n",
       " '__module__',\n",
       " '__ne__',\n",
       " '__new__',\n",
       " '__reduce__',\n",
       " '__reduce_ex__',\n",
       " '__repr__',\n",
       " '__setattr__',\n",
       " '__sizeof__',\n",
       " '__str__',\n",
       " '__subclasshook__',\n",
       " '__weakref__',\n",
       " '_abat_diagonal',\n",
       " '_cache',\n",
       " '_data_attr',\n",
       " '_data_in_cache',\n",
       " '_get_robustcov_results',\n",
       " '_is_nested',\n",
       " '_use_t',\n",
       " '_wexog_singular_values',\n",
       " 'aic',\n",
       " 'bic',\n",
       " 'bse',\n",
       " 'centered_tss',\n",
       " 'compare_f_test',\n",
       " 'compare_lm_test',\n",
       " 'compare_lr_test',\n",
       " 'condition_number',\n",
       " 'conf_int',\n",
       " 'conf_int_el',\n",
       " 'cov_HC0',\n",
       " 'cov_HC1',\n",
       " 'cov_HC2',\n",
       " 'cov_HC3',\n",
       " 'cov_kwds',\n",
       " 'cov_params',\n",
       " 'cov_type',\n",
       " 'df_model',\n",
       " 'df_resid',\n",
       " 'diagn',\n",
       " 'eigenvals',\n",
       " 'el_test',\n",
       " 'ess',\n",
       " 'f_pvalue',\n",
       " 'f_test',\n",
       " 'fittedvalues',\n",
       " 'fvalue',\n",
       " 'get_influence',\n",
       " 'get_prediction',\n",
       " 'get_robustcov_results',\n",
       " 'het_scale',\n",
       " 'initialize',\n",
       " 'k_constant',\n",
       " 'llf',\n",
       " 'load',\n",
       " 'model',\n",
       " 'mse_model',\n",
       " 'mse_resid',\n",
       " 'mse_total',\n",
       " 'nobs',\n",
       " 'normalized_cov_params',\n",
       " 'outlier_test',\n",
       " 'params',\n",
       " 'predict',\n",
       " 'pvalues',\n",
       " 'remove_data',\n",
       " 'resid',\n",
       " 'resid_pearson',\n",
       " 'rsquared',\n",
       " 'rsquared_adj',\n",
       " 'save',\n",
       " 'scale',\n",
       " 'ssr',\n",
       " 'summary',\n",
       " 'summary2',\n",
       " 't_test',\n",
       " 't_test_pairwise',\n",
       " 'tvalues',\n",
       " 'uncentered_tss',\n",
       " 'use_t',\n",
       " 'wald_test',\n",
       " 'wald_test_terms',\n",
       " 'wresid']"
      ]
     },
     "execution_count": 10,
     "metadata": {},
     "output_type": "execute_result"
    }
   ],
   "source": [
    "#dir(reg)\n",
    "# https://www.statsmodels.org/stable/generated/statsmodels.regression.linear_model.RegressionResults.html"
   ]
  },
  {
   "cell_type": "markdown",
   "metadata": {},
   "source": [
    "# Multivariate Regression"
   ]
  },
  {
   "cell_type": "code",
   "execution_count": 11,
   "metadata": {},
   "outputs": [
    {
     "data": {
      "text/html": [
       "<div>\n",
       "<style scoped>\n",
       "    .dataframe tbody tr th:only-of-type {\n",
       "        vertical-align: middle;\n",
       "    }\n",
       "\n",
       "    .dataframe tbody tr th {\n",
       "        vertical-align: top;\n",
       "    }\n",
       "\n",
       "    .dataframe thead th {\n",
       "        text-align: right;\n",
       "    }\n",
       "</style>\n",
       "<table border=\"1\" class=\"dataframe\">\n",
       "  <thead>\n",
       "    <tr style=\"text-align: right;\">\n",
       "      <th></th>\n",
       "      <th>House Price</th>\n",
       "      <th>House Size (sq.ft.)</th>\n",
       "      <th>State</th>\n",
       "      <th>Number of Rooms</th>\n",
       "      <th>Year of Construction</th>\n",
       "    </tr>\n",
       "  </thead>\n",
       "  <tbody>\n",
       "    <tr>\n",
       "      <th>0</th>\n",
       "      <td>1116000</td>\n",
       "      <td>1940</td>\n",
       "      <td>IN</td>\n",
       "      <td>8</td>\n",
       "      <td>2002</td>\n",
       "    </tr>\n",
       "    <tr>\n",
       "      <th>1</th>\n",
       "      <td>860000</td>\n",
       "      <td>1300</td>\n",
       "      <td>IN</td>\n",
       "      <td>5</td>\n",
       "      <td>1992</td>\n",
       "    </tr>\n",
       "    <tr>\n",
       "      <th>2</th>\n",
       "      <td>818400</td>\n",
       "      <td>1420</td>\n",
       "      <td>IN</td>\n",
       "      <td>6</td>\n",
       "      <td>1987</td>\n",
       "    </tr>\n",
       "    <tr>\n",
       "      <th>3</th>\n",
       "      <td>1000000</td>\n",
       "      <td>1680</td>\n",
       "      <td>IN</td>\n",
       "      <td>7</td>\n",
       "      <td>2000</td>\n",
       "    </tr>\n",
       "    <tr>\n",
       "      <th>4</th>\n",
       "      <td>640000</td>\n",
       "      <td>1270</td>\n",
       "      <td>IN</td>\n",
       "      <td>5</td>\n",
       "      <td>1995</td>\n",
       "    </tr>\n",
       "  </tbody>\n",
       "</table>\n",
       "</div>"
      ],
      "text/plain": [
       "   House Price  House Size (sq.ft.) State  Number of Rooms  \\\n",
       "0      1116000                 1940    IN                8   \n",
       "1       860000                 1300    IN                5   \n",
       "2       818400                 1420    IN                6   \n",
       "3      1000000                 1680    IN                7   \n",
       "4       640000                 1270    IN                5   \n",
       "\n",
       "   Year of Construction  \n",
       "0                  2002  \n",
       "1                  1992  \n",
       "2                  1987  \n",
       "3                  2000  \n",
       "4                  1995  "
      ]
     },
     "execution_count": 11,
     "metadata": {},
     "output_type": "execute_result"
    }
   ],
   "source": [
    "data.head()"
   ]
  },
  {
   "cell_type": "code",
   "execution_count": 19,
   "metadata": {},
   "outputs": [],
   "source": [
    "x=data[['House Size (sq.ft.)','Year of Construction']]\n",
    "y=data['House Price']"
   ]
  },
  {
   "cell_type": "code",
   "execution_count": 21,
   "metadata": {},
   "outputs": [
    {
     "data": {
      "text/html": [
       "<table class=\"simpletable\">\n",
       "<caption>OLS Regression Results</caption>\n",
       "<tr>\n",
       "  <th>Dep. Variable:</th>       <td>House Price</td>   <th>  R-squared (uncentered):</th>      <td>   0.984</td>\n",
       "</tr>\n",
       "<tr>\n",
       "  <th>Model:</th>                   <td>OLS</td>       <th>  Adj. R-squared (uncentered):</th> <td>   0.982</td>\n",
       "</tr>\n",
       "<tr>\n",
       "  <th>Method:</th>             <td>Least Squares</td>  <th>  F-statistic:       </th>          <td>   555.8</td>\n",
       "</tr>\n",
       "<tr>\n",
       "  <th>Date:</th>             <td>Wed, 24 Mar 2021</td> <th>  Prob (F-statistic):</th>          <td>6.62e-17</td>\n",
       "</tr>\n",
       "<tr>\n",
       "  <th>Time:</th>                 <td>16:32:40</td>     <th>  Log-Likelihood:    </th>          <td> -260.33</td>\n",
       "</tr>\n",
       "<tr>\n",
       "  <th>No. Observations:</th>      <td>    20</td>      <th>  AIC:               </th>          <td>   524.7</td>\n",
       "</tr>\n",
       "<tr>\n",
       "  <th>Df Residuals:</th>          <td>    18</td>      <th>  BIC:               </th>          <td>   526.7</td>\n",
       "</tr>\n",
       "<tr>\n",
       "  <th>Df Model:</th>              <td>     2</td>      <th>                     </th>              <td> </td>   \n",
       "</tr>\n",
       "<tr>\n",
       "  <th>Covariance Type:</th>      <td>nonrobust</td>    <th>                     </th>              <td> </td>   \n",
       "</tr>\n",
       "</table>\n",
       "<table class=\"simpletable\">\n",
       "<tr>\n",
       "            <td></td>              <th>coef</th>     <th>std err</th>      <th>t</th>      <th>P>|t|</th>  <th>[0.025</th>    <th>0.975]</th>  \n",
       "</tr>\n",
       "<tr>\n",
       "  <th>House Size (sq.ft.)</th>  <td>  399.8023</td> <td>   65.008</td> <td>    6.150</td> <td> 0.000</td> <td>  263.225</td> <td>  536.380</td>\n",
       "</tr>\n",
       "<tr>\n",
       "  <th>Year of Construction</th> <td>  131.9713</td> <td>   48.584</td> <td>    2.716</td> <td> 0.014</td> <td>   29.901</td> <td>  234.042</td>\n",
       "</tr>\n",
       "</table>\n",
       "<table class=\"simpletable\">\n",
       "<tr>\n",
       "  <th>Omnibus:</th>       <td> 1.197</td> <th>  Durbin-Watson:     </th> <td>   1.817</td>\n",
       "</tr>\n",
       "<tr>\n",
       "  <th>Prob(Omnibus):</th> <td> 0.550</td> <th>  Jarque-Bera (JB):  </th> <td>   0.723</td>\n",
       "</tr>\n",
       "<tr>\n",
       "  <th>Skew:</th>          <td>-0.459</td> <th>  Prob(JB):          </th> <td>   0.697</td>\n",
       "</tr>\n",
       "<tr>\n",
       "  <th>Kurtosis:</th>      <td> 2.848</td> <th>  Cond. No.          </th> <td>    7.77</td>\n",
       "</tr>\n",
       "</table><br/><br/>Notes:<br/>[1] R² is computed without centering (uncentered) since the model does not contain a constant.<br/>[2] Standard Errors assume that the covariance matrix of the errors is correctly specified."
      ],
      "text/plain": [
       "<class 'statsmodels.iolib.summary.Summary'>\n",
       "\"\"\"\n",
       "                                 OLS Regression Results                                \n",
       "=======================================================================================\n",
       "Dep. Variable:            House Price   R-squared (uncentered):                   0.984\n",
       "Model:                            OLS   Adj. R-squared (uncentered):              0.982\n",
       "Method:                 Least Squares   F-statistic:                              555.8\n",
       "Date:                Wed, 24 Mar 2021   Prob (F-statistic):                    6.62e-17\n",
       "Time:                        16:32:40   Log-Likelihood:                         -260.33\n",
       "No. Observations:                  20   AIC:                                      524.7\n",
       "Df Residuals:                      18   BIC:                                      526.7\n",
       "Df Model:                           2                                                  \n",
       "Covariance Type:            nonrobust                                                  \n",
       "========================================================================================\n",
       "                           coef    std err          t      P>|t|      [0.025      0.975]\n",
       "----------------------------------------------------------------------------------------\n",
       "House Size (sq.ft.)    399.8023     65.008      6.150      0.000     263.225     536.380\n",
       "Year of Construction   131.9713     48.584      2.716      0.014      29.901     234.042\n",
       "==============================================================================\n",
       "Omnibus:                        1.197   Durbin-Watson:                   1.817\n",
       "Prob(Omnibus):                  0.550   Jarque-Bera (JB):                0.723\n",
       "Skew:                          -0.459   Prob(JB):                        0.697\n",
       "Kurtosis:                       2.848   Cond. No.                         7.77\n",
       "==============================================================================\n",
       "\n",
       "Notes:\n",
       "[1] R² is computed without centering (uncentered) since the model does not contain a constant.\n",
       "[2] Standard Errors assume that the covariance matrix of the errors is correctly specified.\n",
       "\"\"\""
      ]
     },
     "execution_count": 21,
     "metadata": {},
     "output_type": "execute_result"
    }
   ],
   "source": [
    "X1= sm.add_constant(x)\n",
    "reg = sm.OLS(y,x).fit()\n",
    "reg.summary()"
   ]
  },
  {
   "cell_type": "code",
   "execution_count": null,
   "metadata": {},
   "outputs": [],
   "source": []
  }
 ],
 "metadata": {
  "kernelspec": {
   "display_name": "Python 3",
   "language": "python",
   "name": "python3"
  },
  "language_info": {
   "codemirror_mode": {
    "name": "ipython",
    "version": 3
   },
   "file_extension": ".py",
   "mimetype": "text/x-python",
   "name": "python",
   "nbconvert_exporter": "python",
   "pygments_lexer": "ipython3",
   "version": "3.8.5"
  }
 },
 "nbformat": 4,
 "nbformat_minor": 4
}
