{
 "cells": [
  {
   "cell_type": "markdown",
   "metadata": {},
   "source": [
    "## Simple Returns - Part II"
   ]
  },
  {
   "cell_type": "markdown",
   "metadata": {},
   "source": [
    "*Suggested Answers follow (usually there are multiple ways to solve a problem in Python).*"
   ]
  },
  {
   "cell_type": "markdown",
   "metadata": {},
   "source": [
    "$$\n",
    "\\frac{P_1 - P_0}{P_0} = \\frac{P_1}{P_0} - 1\n",
    "$$"
   ]
  },
  {
   "cell_type": "code",
   "execution_count": 1,
   "metadata": {},
   "outputs": [
    {
     "name": "stdout",
     "output_type": "stream",
     "text": [
      "Date\n",
      "2000-01-03         NaN\n",
      "2000-01-04   -0.033781\n",
      "2000-01-05    0.010545\n",
      "2000-01-06   -0.033498\n",
      "2000-01-07    0.013068\n",
      "2000-01-10    0.007292\n",
      "2000-01-11   -0.025613\n",
      "2000-01-12   -0.032571\n",
      "2000-01-13    0.018902\n",
      "2000-01-14    0.041159\n",
      "2000-01-18    0.027283\n",
      "2000-01-19   -0.072087\n",
      "2000-01-20   -0.009346\n",
      "2000-01-21   -0.021226\n",
      "2000-01-24   -0.024096\n",
      "2000-01-25    0.015432\n",
      "2000-01-26   -0.033435\n",
      "2000-01-27   -0.006289\n",
      "2000-01-28   -0.005063\n",
      "2000-01-31   -0.003817\n",
      "2000-02-01    0.051725\n",
      "2000-02-02   -0.020643\n",
      "2000-02-03    0.027897\n",
      "2000-02-04    0.028348\n",
      "2000-02-07    0.000586\n",
      "2000-02-08    0.031067\n",
      "2000-02-09   -0.054009\n",
      "2000-02-10    0.019231\n",
      "2000-02-11   -0.057193\n",
      "2000-02-14   -0.003127\n",
      "                ...   \n",
      "2018-12-20   -0.021024\n",
      "2018-12-21   -0.032312\n",
      "2018-12-24   -0.041739\n",
      "2018-12-26    0.068310\n",
      "2018-12-27    0.006166\n",
      "2018-12-28   -0.007808\n",
      "2018-12-31    0.011754\n",
      "2019-01-02   -0.004430\n",
      "2019-01-03   -0.036788\n",
      "2019-01-04    0.046509\n",
      "2019-01-07    0.001275\n",
      "2019-01-08    0.007251\n",
      "2019-01-09    0.014300\n",
      "2019-01-10   -0.006426\n",
      "2019-01-11   -0.007722\n",
      "2019-01-14   -0.007296\n",
      "2019-01-15    0.029005\n",
      "2019-01-16    0.003523\n",
      "2019-01-17    0.007022\n",
      "2019-01-18    0.014983\n",
      "2019-01-22   -0.018847\n",
      "2019-01-23    0.009746\n",
      "2019-01-24   -0.004779\n",
      "2019-01-25    0.009134\n",
      "2019-01-28   -0.019502\n",
      "2019-01-29   -0.020365\n",
      "2019-01-30    0.033417\n",
      "2019-01-31   -0.018330\n",
      "2019-02-01   -0.015800\n",
      "2019-02-05    0.036680\n",
      "Name: simple_return, Length: 4802, dtype: float64\n"
     ]
    }
   ],
   "source": [
    "import numpy as np\n",
    "from pandas_datareader import data as wb\n",
    "MSFT = wb.DataReader('MSFT', data_source='yahoo', start='2000-1-1')\n",
    "MSFT['simple_return'] = (MSFT['Adj Close'] / MSFT['Adj Close'].shift(1)) - 1\n",
    "print MSFT['simple_return']"
   ]
  },
  {
   "cell_type": "markdown",
   "metadata": {},
   "source": [
    "Plot the simple returns on a graph."
   ]
  },
  {
   "cell_type": "code",
   "execution_count": 2,
   "metadata": {},
   "outputs": [],
   "source": [
    "import matplotlib.pyplot as plt"
   ]
  },
  {
   "cell_type": "code",
   "execution_count": 3,
   "metadata": {},
   "outputs": [
    {
     "data": {
      "image/png": "[encoded data removed]",
      "text/plain": [
       "<Figure size 576x360 with 1 Axes>"
      ]
     },
     "metadata": {
      "needs_background": "light"
     },
     "output_type": "display_data"
    }
   ],
   "source": [
    "MSFT['simple_return'].plot(figsize=(8, 5))\n",
    "plt.show()"
   ]
  },
  {
   "cell_type": "markdown",
   "metadata": {},
   "source": [
    "Calculate the average daily return."
   ]
  },
  {
   "cell_type": "code",
   "execution_count": 4,
   "metadata": {},
   "outputs": [
    {
     "data": {
      "text/plain": [
       "0.00037869631610825755"
      ]
     },
     "execution_count": 4,
     "metadata": {},
     "output_type": "execute_result"
    }
   ],
   "source": [
    "avg_returns_d = MSFT['simple_return'].mean()\n",
    "avg_returns_d"
   ]
  },
  {
   "cell_type": "markdown",
   "metadata": {},
   "source": [
    "Estimate the average annual return."
   ]
  },
  {
   "cell_type": "code",
   "execution_count": 5,
   "metadata": {},
   "outputs": [
    {
     "data": {
      "text/plain": [
       "0.094674079027064387"
      ]
     },
     "execution_count": 5,
     "metadata": {},
     "output_type": "execute_result"
    }
   ],
   "source": [
    "avg_returns_a = MSFT['simple_return'].mean() * 250\n",
    "avg_returns_a"
   ]
  },
  {
   "cell_type": "markdown",
   "metadata": {},
   "source": [
    "Print the percentage version of the result as a float with 2 digits after the decimal point."
   ]
  },
  {
   "cell_type": "code",
   "execution_count": 6,
   "metadata": {},
   "outputs": [
    {
     "name": "stdout",
     "output_type": "stream",
     "text": [
      "9.47 %\n"
     ]
    }
   ],
   "source": [
    "print str(round(avg_returns_a, 4) * 100) + ' %'"
   ]
  }
 ],
 "metadata": {
  "kernelspec": {
   "display_name": "Python 2",
   "language": "python",
   "name": "python2"
  },
  "language_info": {
   "codemirror_mode": {
    "name": "ipython",
    "version": 2
   },
   "file_extension": ".py",
   "mimetype": "text/x-python",
   "name": "python",
   "nbconvert_exporter": "python",
   "pygments_lexer": "ipython2",
   "version": "2.7.15"
  }
 },
 "nbformat": 4,
 "nbformat_minor": 2
}
