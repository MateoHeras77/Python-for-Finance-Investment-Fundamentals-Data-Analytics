{
 "cells": [
  {
   "cell_type": "markdown",
   "metadata": {},
   "source": [
    "## Calculating Portfolio Risk"
   ]
  },
  {
   "cell_type": "markdown",
   "metadata": {},
   "source": [
    "*Suggested Answers follow (usually there are multiple ways to solve a problem in Python).*"
   ]
  },
  {
   "cell_type": "markdown",
   "metadata": {},
   "source": [
    "Calculate the risk of an equally weighted portfolio composed of Microsoft and Apple. The data can be obtained from Yahoo Finance for the period 1st of January 2007 until today. "
   ]
  },
  {
   "cell_type": "markdown",
   "metadata": {},
   "source": [
    "*Hint: The code we went through in the lecture is what you need here. You will need to import the data first. The previous lessons could be a good reference point for that! :) *"
   ]
  },
  {
   "cell_type": "code",
   "execution_count": 1,
   "metadata": {},
   "outputs": [],
   "source": [
    "import numpy as np\n",
    "import pandas as pd\n",
    "from pandas_datareader import data as wb\n",
    "import matplotlib.pyplot as plt"
   ]
  },
  {
   "cell_type": "code",
   "execution_count": 2,
   "metadata": {},
   "outputs": [],
   "source": [
    "tickers = ['MSFT', 'AAPL']\n",
    "\n",
    "sec_data = pd.DataFrame()\n",
    "\n",
    "for t in tickers:\n",
    "    sec_data[t] = wb.DataReader(t, data_source='yahoo', start='2007-1-1')['Adj Close']"
   ]
  },
  {
   "cell_type": "code",
   "execution_count": 3,
   "metadata": {},
   "outputs": [
    {
     "data": {
      "text/html": [
       "<div>\n",
       "<style scoped>\n",
       "    .dataframe tbody tr th:only-of-type {\n",
       "        vertical-align: middle;\n",
       "    }\n",
       "\n",
       "    .dataframe tbody tr th {\n",
       "        vertical-align: top;\n",
       "    }\n",
       "\n",
       "    .dataframe thead th {\n",
       "        text-align: right;\n",
       "    }\n",
       "</style>\n",
       "<table border=\"1\" class=\"dataframe\">\n",
       "  <thead>\n",
       "    <tr style=\"text-align: right;\">\n",
       "      <th></th>\n",
       "      <th>MSFT</th>\n",
       "      <th>AAPL</th>\n",
       "    </tr>\n",
       "    <tr>\n",
       "      <th>Date</th>\n",
       "      <th></th>\n",
       "      <th></th>\n",
       "    </tr>\n",
       "  </thead>\n",
       "  <tbody>\n",
       "    <tr>\n",
       "      <th>2019-01-29</th>\n",
       "      <td>102.940002</td>\n",
       "      <td>154.679993</td>\n",
       "    </tr>\n",
       "    <tr>\n",
       "      <th>2019-01-30</th>\n",
       "      <td>106.379997</td>\n",
       "      <td>165.250000</td>\n",
       "    </tr>\n",
       "    <tr>\n",
       "      <th>2019-01-31</th>\n",
       "      <td>104.430000</td>\n",
       "      <td>166.440002</td>\n",
       "    </tr>\n",
       "    <tr>\n",
       "      <th>2019-02-01</th>\n",
       "      <td>102.779999</td>\n",
       "      <td>166.520004</td>\n",
       "    </tr>\n",
       "    <tr>\n",
       "      <th>2019-02-04</th>\n",
       "      <td>105.739998</td>\n",
       "      <td>171.250000</td>\n",
       "    </tr>\n",
       "  </tbody>\n",
       "</table>\n",
       "</div>"
      ],
      "text/plain": [
       "                  MSFT        AAPL\n",
       "Date                              \n",
       "2019-01-29  102.940002  154.679993\n",
       "2019-01-30  106.379997  165.250000\n",
       "2019-01-31  104.430000  166.440002\n",
       "2019-02-01  102.779999  166.520004\n",
       "2019-02-04  105.739998  171.250000"
      ]
     },
     "execution_count": 3,
     "metadata": {},
     "output_type": "execute_result"
    }
   ],
   "source": [
    "sec_data.tail()"
   ]
  },
  {
   "cell_type": "code",
   "execution_count": 4,
   "metadata": {},
   "outputs": [],
   "source": [
    "sec_returns = np.log(sec_data / sec_data.shift(1))"
   ]
  },
  {
   "cell_type": "code",
   "execution_count": 5,
   "metadata": {},
   "outputs": [
    {
     "data": {
      "text/html": [
       "<div>\n",
       "<style scoped>\n",
       "    .dataframe tbody tr th:only-of-type {\n",
       "        vertical-align: middle;\n",
       "    }\n",
       "\n",
       "    .dataframe tbody tr th {\n",
       "        vertical-align: top;\n",
       "    }\n",
       "\n",
       "    .dataframe thead th {\n",
       "        text-align: right;\n",
       "    }\n",
       "</style>\n",
       "<table border=\"1\" class=\"dataframe\">\n",
       "  <thead>\n",
       "    <tr style=\"text-align: right;\">\n",
       "      <th></th>\n",
       "      <th>MSFT</th>\n",
       "      <th>AAPL</th>\n",
       "    </tr>\n",
       "    <tr>\n",
       "      <th>Date</th>\n",
       "      <th></th>\n",
       "      <th></th>\n",
       "    </tr>\n",
       "  </thead>\n",
       "  <tbody>\n",
       "    <tr>\n",
       "      <th>2007-01-03</th>\n",
       "      <td>NaN</td>\n",
       "      <td>NaN</td>\n",
       "    </tr>\n",
       "    <tr>\n",
       "      <th>2007-01-04</th>\n",
       "      <td>-0.001676</td>\n",
       "      <td>0.021953</td>\n",
       "    </tr>\n",
       "    <tr>\n",
       "      <th>2007-01-05</th>\n",
       "      <td>-0.005719</td>\n",
       "      <td>-0.007147</td>\n",
       "    </tr>\n",
       "    <tr>\n",
       "      <th>2007-01-08</th>\n",
       "      <td>0.009737</td>\n",
       "      <td>0.004926</td>\n",
       "    </tr>\n",
       "    <tr>\n",
       "      <th>2007-01-09</th>\n",
       "      <td>0.001002</td>\n",
       "      <td>0.079800</td>\n",
       "    </tr>\n",
       "    <tr>\n",
       "      <th>2007-01-10</th>\n",
       "      <td>-0.010064</td>\n",
       "      <td>0.046746</td>\n",
       "    </tr>\n",
       "    <tr>\n",
       "      <th>2007-01-11</th>\n",
       "      <td>0.034463</td>\n",
       "      <td>-0.012448</td>\n",
       "    </tr>\n",
       "    <tr>\n",
       "      <th>2007-01-12</th>\n",
       "      <td>0.016476</td>\n",
       "      <td>-0.012394</td>\n",
       "    </tr>\n",
       "    <tr>\n",
       "      <th>2007-01-16</th>\n",
       "      <td>-0.001603</td>\n",
       "      <td>0.025872</td>\n",
       "    </tr>\n",
       "    <tr>\n",
       "      <th>2007-01-17</th>\n",
       "      <td>-0.001928</td>\n",
       "      <td>-0.022391</td>\n",
       "    </tr>\n",
       "    <tr>\n",
       "      <th>2007-01-18</th>\n",
       "      <td>-0.003220</td>\n",
       "      <td>-0.063928</td>\n",
       "    </tr>\n",
       "    <tr>\n",
       "      <th>2007-01-19</th>\n",
       "      <td>0.003542</td>\n",
       "      <td>-0.006420</td>\n",
       "    </tr>\n",
       "    <tr>\n",
       "      <th>2007-01-22</th>\n",
       "      <td>-0.012615</td>\n",
       "      <td>-0.019511</td>\n",
       "    </tr>\n",
       "    <tr>\n",
       "      <th>2007-01-23</th>\n",
       "      <td>0.000651</td>\n",
       "      <td>-0.012639</td>\n",
       "    </tr>\n",
       "    <tr>\n",
       "      <th>2007-01-24</th>\n",
       "      <td>0.011322</td>\n",
       "      <td>0.011601</td>\n",
       "    </tr>\n",
       "    <tr>\n",
       "      <th>2007-01-25</th>\n",
       "      <td>-0.020800</td>\n",
       "      <td>-0.005204</td>\n",
       "    </tr>\n",
       "    <tr>\n",
       "      <th>2007-01-26</th>\n",
       "      <td>0.004914</td>\n",
       "      <td>-0.010138</td>\n",
       "    </tr>\n",
       "    <tr>\n",
       "      <th>2007-01-29</th>\n",
       "      <td>-0.002291</td>\n",
       "      <td>0.006537</td>\n",
       "    </tr>\n",
       "    <tr>\n",
       "      <th>2007-01-30</th>\n",
       "      <td>-0.001639</td>\n",
       "      <td>-0.004548</td>\n",
       "    </tr>\n",
       "    <tr>\n",
       "      <th>2007-01-31</th>\n",
       "      <td>0.012390</td>\n",
       "      <td>0.002102</td>\n",
       "    </tr>\n",
       "    <tr>\n",
       "      <th>2007-02-01</th>\n",
       "      <td>-0.009769</td>\n",
       "      <td>-0.011615</td>\n",
       "    </tr>\n",
       "    <tr>\n",
       "      <th>2007-02-02</th>\n",
       "      <td>-0.012181</td>\n",
       "      <td>0.000118</td>\n",
       "    </tr>\n",
       "    <tr>\n",
       "      <th>2007-02-05</th>\n",
       "      <td>-0.019399</td>\n",
       "      <td>-0.009604</td>\n",
       "    </tr>\n",
       "    <tr>\n",
       "      <th>2007-02-06</th>\n",
       "      <td>-0.003383</td>\n",
       "      <td>0.002499</td>\n",
       "    </tr>\n",
       "    <tr>\n",
       "      <th>2007-02-07</th>\n",
       "      <td>-0.004755</td>\n",
       "      <td>0.023489</td>\n",
       "    </tr>\n",
       "    <tr>\n",
       "      <th>2007-02-08</th>\n",
       "      <td>-0.003753</td>\n",
       "      <td>0.000348</td>\n",
       "    </tr>\n",
       "    <tr>\n",
       "      <th>2007-02-09</th>\n",
       "      <td>-0.009615</td>\n",
       "      <td>-0.034350</td>\n",
       "    </tr>\n",
       "    <tr>\n",
       "      <th>2007-02-12</th>\n",
       "      <td>-0.001381</td>\n",
       "      <td>0.019150</td>\n",
       "    </tr>\n",
       "    <tr>\n",
       "      <th>2007-02-13</th>\n",
       "      <td>0.005877</td>\n",
       "      <td>-0.002123</td>\n",
       "    </tr>\n",
       "    <tr>\n",
       "      <th>2007-02-14</th>\n",
       "      <td>0.013354</td>\n",
       "      <td>0.007059</td>\n",
       "    </tr>\n",
       "    <tr>\n",
       "      <th>...</th>\n",
       "      <td>...</td>\n",
       "      <td>...</td>\n",
       "    </tr>\n",
       "    <tr>\n",
       "      <th>2018-12-20</th>\n",
       "      <td>-0.021248</td>\n",
       "      <td>-0.025558</td>\n",
       "    </tr>\n",
       "    <tr>\n",
       "      <th>2018-12-21</th>\n",
       "      <td>-0.032846</td>\n",
       "      <td>-0.039672</td>\n",
       "    </tr>\n",
       "    <tr>\n",
       "      <th>2018-12-24</th>\n",
       "      <td>-0.042635</td>\n",
       "      <td>-0.026215</td>\n",
       "    </tr>\n",
       "    <tr>\n",
       "      <th>2018-12-26</th>\n",
       "      <td>0.066078</td>\n",
       "      <td>0.068053</td>\n",
       "    </tr>\n",
       "    <tr>\n",
       "      <th>2018-12-27</th>\n",
       "      <td>0.006147</td>\n",
       "      <td>-0.006511</td>\n",
       "    </tr>\n",
       "    <tr>\n",
       "      <th>2018-12-28</th>\n",
       "      <td>-0.007839</td>\n",
       "      <td>0.000512</td>\n",
       "    </tr>\n",
       "    <tr>\n",
       "      <th>2018-12-31</th>\n",
       "      <td>0.011686</td>\n",
       "      <td>0.009619</td>\n",
       "    </tr>\n",
       "    <tr>\n",
       "      <th>2019-01-02</th>\n",
       "      <td>-0.004440</td>\n",
       "      <td>0.001140</td>\n",
       "    </tr>\n",
       "    <tr>\n",
       "      <th>2019-01-03</th>\n",
       "      <td>-0.037482</td>\n",
       "      <td>-0.104924</td>\n",
       "    </tr>\n",
       "    <tr>\n",
       "      <th>2019-01-04</th>\n",
       "      <td>0.045460</td>\n",
       "      <td>0.041803</td>\n",
       "    </tr>\n",
       "    <tr>\n",
       "      <th>2019-01-07</th>\n",
       "      <td>0.001275</td>\n",
       "      <td>-0.002228</td>\n",
       "    </tr>\n",
       "    <tr>\n",
       "      <th>2019-01-08</th>\n",
       "      <td>0.007225</td>\n",
       "      <td>0.018884</td>\n",
       "    </tr>\n",
       "    <tr>\n",
       "      <th>2019-01-09</th>\n",
       "      <td>0.014198</td>\n",
       "      <td>0.016839</td>\n",
       "    </tr>\n",
       "    <tr>\n",
       "      <th>2019-01-10</th>\n",
       "      <td>-0.006446</td>\n",
       "      <td>0.003191</td>\n",
       "    </tr>\n",
       "    <tr>\n",
       "      <th>2019-01-11</th>\n",
       "      <td>-0.007752</td>\n",
       "      <td>-0.009867</td>\n",
       "    </tr>\n",
       "    <tr>\n",
       "      <th>2019-01-14</th>\n",
       "      <td>-0.007322</td>\n",
       "      <td>-0.015151</td>\n",
       "    </tr>\n",
       "    <tr>\n",
       "      <th>2019-01-15</th>\n",
       "      <td>0.028593</td>\n",
       "      <td>0.020260</td>\n",
       "    </tr>\n",
       "    <tr>\n",
       "      <th>2019-01-16</th>\n",
       "      <td>0.003517</td>\n",
       "      <td>0.012143</td>\n",
       "    </tr>\n",
       "    <tr>\n",
       "      <th>2019-01-17</th>\n",
       "      <td>0.006998</td>\n",
       "      <td>0.005920</td>\n",
       "    </tr>\n",
       "    <tr>\n",
       "      <th>2019-01-18</th>\n",
       "      <td>0.014872</td>\n",
       "      <td>0.006141</td>\n",
       "    </tr>\n",
       "    <tr>\n",
       "      <th>2019-01-22</th>\n",
       "      <td>-0.019027</td>\n",
       "      <td>-0.022702</td>\n",
       "    </tr>\n",
       "    <tr>\n",
       "      <th>2019-01-23</th>\n",
       "      <td>0.009699</td>\n",
       "      <td>0.004036</td>\n",
       "    </tr>\n",
       "    <tr>\n",
       "      <th>2019-01-24</th>\n",
       "      <td>-0.004791</td>\n",
       "      <td>-0.007958</td>\n",
       "    </tr>\n",
       "    <tr>\n",
       "      <th>2019-01-25</th>\n",
       "      <td>0.009092</td>\n",
       "      <td>0.032600</td>\n",
       "    </tr>\n",
       "    <tr>\n",
       "      <th>2019-01-28</th>\n",
       "      <td>-0.019694</td>\n",
       "      <td>-0.009298</td>\n",
       "    </tr>\n",
       "    <tr>\n",
       "      <th>2019-01-29</th>\n",
       "      <td>-0.020576</td>\n",
       "      <td>-0.010419</td>\n",
       "    </tr>\n",
       "    <tr>\n",
       "      <th>2019-01-30</th>\n",
       "      <td>0.032871</td>\n",
       "      <td>0.066101</td>\n",
       "    </tr>\n",
       "    <tr>\n",
       "      <th>2019-01-31</th>\n",
       "      <td>-0.018501</td>\n",
       "      <td>0.007175</td>\n",
       "    </tr>\n",
       "    <tr>\n",
       "      <th>2019-02-01</th>\n",
       "      <td>-0.015926</td>\n",
       "      <td>0.000481</td>\n",
       "    </tr>\n",
       "    <tr>\n",
       "      <th>2019-02-04</th>\n",
       "      <td>0.028392</td>\n",
       "      <td>0.028009</td>\n",
       "    </tr>\n",
       "  </tbody>\n",
       "</table>\n",
       "<p>3043 rows × 2 columns</p>\n",
       "</div>"
      ],
      "text/plain": [
       "                MSFT      AAPL\n",
       "Date                          \n",
       "2007-01-03       NaN       NaN\n",
       "2007-01-04 -0.001676  0.021953\n",
       "2007-01-05 -0.005719 -0.007147\n",
       "2007-01-08  0.009737  0.004926\n",
       "2007-01-09  0.001002  0.079800\n",
       "2007-01-10 -0.010064  0.046746\n",
       "2007-01-11  0.034463 -0.012448\n",
       "2007-01-12  0.016476 -0.012394\n",
       "2007-01-16 -0.001603  0.025872\n",
       "2007-01-17 -0.001928 -0.022391\n",
       "2007-01-18 -0.003220 -0.063928\n",
       "2007-01-19  0.003542 -0.006420\n",
       "2007-01-22 -0.012615 -0.019511\n",
       "2007-01-23  0.000651 -0.012639\n",
       "2007-01-24  0.011322  0.011601\n",
       "2007-01-25 -0.020800 -0.005204\n",
       "2007-01-26  0.004914 -0.010138\n",
       "2007-01-29 -0.002291  0.006537\n",
       "2007-01-30 -0.001639 -0.004548\n",
       "2007-01-31  0.012390  0.002102\n",
       "2007-02-01 -0.009769 -0.011615\n",
       "2007-02-02 -0.012181  0.000118\n",
       "2007-02-05 -0.019399 -0.009604\n",
       "2007-02-06 -0.003383  0.002499\n",
       "2007-02-07 -0.004755  0.023489\n",
       "2007-02-08 -0.003753  0.000348\n",
       "2007-02-09 -0.009615 -0.034350\n",
       "2007-02-12 -0.001381  0.019150\n",
       "2007-02-13  0.005877 -0.002123\n",
       "2007-02-14  0.013354  0.007059\n",
       "...              ...       ...\n",
       "2018-12-20 -0.021248 -0.025558\n",
       "2018-12-21 -0.032846 -0.039672\n",
       "2018-12-24 -0.042635 -0.026215\n",
       "2018-12-26  0.066078  0.068053\n",
       "2018-12-27  0.006147 -0.006511\n",
       "2018-12-28 -0.007839  0.000512\n",
       "2018-12-31  0.011686  0.009619\n",
       "2019-01-02 -0.004440  0.001140\n",
       "2019-01-03 -0.037482 -0.104924\n",
       "2019-01-04  0.045460  0.041803\n",
       "2019-01-07  0.001275 -0.002228\n",
       "2019-01-08  0.007225  0.018884\n",
       "2019-01-09  0.014198  0.016839\n",
       "2019-01-10 -0.006446  0.003191\n",
       "2019-01-11 -0.007752 -0.009867\n",
       "2019-01-14 -0.007322 -0.015151\n",
       "2019-01-15  0.028593  0.020260\n",
       "2019-01-16  0.003517  0.012143\n",
       "2019-01-17  0.006998  0.005920\n",
       "2019-01-18  0.014872  0.006141\n",
       "2019-01-22 -0.019027 -0.022702\n",
       "2019-01-23  0.009699  0.004036\n",
       "2019-01-24 -0.004791 -0.007958\n",
       "2019-01-25  0.009092  0.032600\n",
       "2019-01-28 -0.019694 -0.009298\n",
       "2019-01-29 -0.020576 -0.010419\n",
       "2019-01-30  0.032871  0.066101\n",
       "2019-01-31 -0.018501  0.007175\n",
       "2019-02-01 -0.015926  0.000481\n",
       "2019-02-04  0.028392  0.028009\n",
       "\n",
       "[3043 rows x 2 columns]"
      ]
     },
     "execution_count": 5,
     "metadata": {},
     "output_type": "execute_result"
    }
   ],
   "source": [
    "sec_returns"
   ]
  },
  {
   "cell_type": "markdown",
   "metadata": {},
   "source": [
    "## MSFT"
   ]
  },
  {
   "cell_type": "code",
   "execution_count": 6,
   "metadata": {},
   "outputs": [
    {
     "data": {
      "text/plain": [
       "0.00050760934158189462"
      ]
     },
     "execution_count": 6,
     "metadata": {},
     "output_type": "execute_result"
    }
   ],
   "source": [
    "sec_returns['MSFT'].mean()"
   ]
  },
  {
   "cell_type": "code",
   "execution_count": 7,
   "metadata": {},
   "outputs": [
    {
     "data": {
      "text/plain": [
       "0.12690233539547366"
      ]
     },
     "execution_count": 7,
     "metadata": {},
     "output_type": "execute_result"
    }
   ],
   "source": [
    "sec_returns['MSFT'].mean() * 250"
   ]
  },
  {
   "cell_type": "code",
   "execution_count": 8,
   "metadata": {},
   "outputs": [
    {
     "data": {
      "text/plain": [
       "0.017263696101993912"
      ]
     },
     "execution_count": 8,
     "metadata": {},
     "output_type": "execute_result"
    }
   ],
   "source": [
    "sec_returns['MSFT'].std()"
   ]
  },
  {
   "cell_type": "code",
   "execution_count": 9,
   "metadata": {},
   "outputs": [
    {
     "data": {
      "text/plain": [
       "0.27296300257635636"
      ]
     },
     "execution_count": 9,
     "metadata": {},
     "output_type": "execute_result"
    }
   ],
   "source": [
    "sec_returns['MSFT'].std() * 250 ** 0.5"
   ]
  },
  {
   "cell_type": "markdown",
   "metadata": {},
   "source": [
    "## Apple"
   ]
  },
  {
   "cell_type": "code",
   "execution_count": 10,
   "metadata": {},
   "outputs": [
    {
     "data": {
      "text/plain": [
       "0.0010064374254998587"
      ]
     },
     "execution_count": 10,
     "metadata": {},
     "output_type": "execute_result"
    }
   ],
   "source": [
    "sec_returns['AAPL'].mean()"
   ]
  },
  {
   "cell_type": "code",
   "execution_count": 11,
   "metadata": {},
   "outputs": [
    {
     "data": {
      "text/plain": [
       "0.25160935637496468"
      ]
     },
     "execution_count": 11,
     "metadata": {},
     "output_type": "execute_result"
    }
   ],
   "source": [
    "sec_returns['AAPL'].mean() * 250"
   ]
  },
  {
   "cell_type": "code",
   "execution_count": 12,
   "metadata": {},
   "outputs": [
    {
     "data": {
      "text/plain": [
       "0.020109902628570955"
      ]
     },
     "execution_count": 12,
     "metadata": {},
     "output_type": "execute_result"
    }
   ],
   "source": [
    "sec_returns['AAPL'].std()"
   ]
  },
  {
   "cell_type": "code",
   "execution_count": 13,
   "metadata": {},
   "outputs": [
    {
     "data": {
      "text/plain": [
       "0.31796547915245649"
      ]
     },
     "execution_count": 13,
     "metadata": {},
     "output_type": "execute_result"
    }
   ],
   "source": [
    "sec_returns['AAPL'].std() * 250 ** 0.5"
   ]
  },
  {
   "cell_type": "markdown",
   "metadata": {},
   "source": [
    "***"
   ]
  },
  {
   "cell_type": "code",
   "execution_count": 14,
   "metadata": {
    "scrolled": false
   },
   "outputs": [
    {
     "data": {
      "text/plain": [
       "MSFT    0.126902\n",
       "AAPL    0.251609\n",
       "dtype: float64"
      ]
     },
     "execution_count": 14,
     "metadata": {},
     "output_type": "execute_result"
    }
   ],
   "source": [
    "sec_returns[['MSFT', 'AAPL']].mean() * 250"
   ]
  },
  {
   "cell_type": "code",
   "execution_count": 15,
   "metadata": {
    "scrolled": true
   },
   "outputs": [
    {
     "data": {
      "text/plain": [
       "MSFT    0.272963\n",
       "AAPL    0.317965\n",
       "dtype: float64"
      ]
     },
     "execution_count": 15,
     "metadata": {},
     "output_type": "execute_result"
    }
   ],
   "source": [
    "sec_returns[['MSFT', 'AAPL']].std() * 250 ** 0.5"
   ]
  },
  {
   "cell_type": "markdown",
   "metadata": {},
   "source": [
    "## Covariance and Correlation"
   ]
  },
  {
   "cell_type": "markdown",
   "metadata": {},
   "source": [
    "\n",
    "\\begin{eqnarray*}\n",
    "Covariance Matrix: \\  \\   \n",
    "\\Sigma = \\begin{bmatrix}\n",
    "        \\sigma_{1}^2 \\ \\sigma_{12} \\ \\dots \\ \\sigma_{1I} \\\\\n",
    "        \\sigma_{21} \\ \\sigma_{2}^2 \\ \\dots \\ \\sigma_{2I} \\\\\n",
    "        \\vdots \\ \\vdots \\ \\ddots \\ \\vdots \\\\\n",
    "        \\sigma_{I1} \\ \\sigma_{I2} \\ \\dots \\ \\sigma_{I}^2\n",
    "    \\end{bmatrix}\n",
    "\\end{eqnarray*}"
   ]
  },
  {
   "cell_type": "markdown",
   "metadata": {},
   "source": [
    "*****"
   ]
  },
  {
   "cell_type": "code",
   "execution_count": 16,
   "metadata": {},
   "outputs": [
    {
     "data": {
      "text/html": [
       "<div>\n",
       "<style scoped>\n",
       "    .dataframe tbody tr th:only-of-type {\n",
       "        vertical-align: middle;\n",
       "    }\n",
       "\n",
       "    .dataframe tbody tr th {\n",
       "        vertical-align: top;\n",
       "    }\n",
       "\n",
       "    .dataframe thead th {\n",
       "        text-align: right;\n",
       "    }\n",
       "</style>\n",
       "<table border=\"1\" class=\"dataframe\">\n",
       "  <thead>\n",
       "    <tr style=\"text-align: right;\">\n",
       "      <th></th>\n",
       "      <th>MSFT</th>\n",
       "      <th>AAPL</th>\n",
       "    </tr>\n",
       "  </thead>\n",
       "  <tbody>\n",
       "    <tr>\n",
       "      <th>MSFT</th>\n",
       "      <td>0.000298</td>\n",
       "      <td>0.000169</td>\n",
       "    </tr>\n",
       "    <tr>\n",
       "      <th>AAPL</th>\n",
       "      <td>0.000169</td>\n",
       "      <td>0.000404</td>\n",
       "    </tr>\n",
       "  </tbody>\n",
       "</table>\n",
       "</div>"
      ],
      "text/plain": [
       "          MSFT      AAPL\n",
       "MSFT  0.000298  0.000169\n",
       "AAPL  0.000169  0.000404"
      ]
     },
     "execution_count": 16,
     "metadata": {},
     "output_type": "execute_result"
    }
   ],
   "source": [
    "cov_matrix = sec_returns.cov()\n",
    "cov_matrix"
   ]
  },
  {
   "cell_type": "code",
   "execution_count": 17,
   "metadata": {},
   "outputs": [
    {
     "data": {
      "text/html": [
       "<div>\n",
       "<style scoped>\n",
       "    .dataframe tbody tr th:only-of-type {\n",
       "        vertical-align: middle;\n",
       "    }\n",
       "\n",
       "    .dataframe tbody tr th {\n",
       "        vertical-align: top;\n",
       "    }\n",
       "\n",
       "    .dataframe thead th {\n",
       "        text-align: right;\n",
       "    }\n",
       "</style>\n",
       "<table border=\"1\" class=\"dataframe\">\n",
       "  <thead>\n",
       "    <tr style=\"text-align: right;\">\n",
       "      <th></th>\n",
       "      <th>MSFT</th>\n",
       "      <th>AAPL</th>\n",
       "    </tr>\n",
       "  </thead>\n",
       "  <tbody>\n",
       "    <tr>\n",
       "      <th>MSFT</th>\n",
       "      <td>0.074509</td>\n",
       "      <td>0.042210</td>\n",
       "    </tr>\n",
       "    <tr>\n",
       "      <th>AAPL</th>\n",
       "      <td>0.042210</td>\n",
       "      <td>0.101102</td>\n",
       "    </tr>\n",
       "  </tbody>\n",
       "</table>\n",
       "</div>"
      ],
      "text/plain": [
       "          MSFT      AAPL\n",
       "MSFT  0.074509  0.042210\n",
       "AAPL  0.042210  0.101102"
      ]
     },
     "execution_count": 17,
     "metadata": {},
     "output_type": "execute_result"
    }
   ],
   "source": [
    "cov_matrix_a = sec_returns.cov() * 250\n",
    "cov_matrix_a"
   ]
  },
  {
   "cell_type": "markdown",
   "metadata": {},
   "source": [
    "***"
   ]
  },
  {
   "cell_type": "code",
   "execution_count": 18,
   "metadata": {},
   "outputs": [
    {
     "data": {
      "text/html": [
       "<div>\n",
       "<style scoped>\n",
       "    .dataframe tbody tr th:only-of-type {\n",
       "        vertical-align: middle;\n",
       "    }\n",
       "\n",
       "    .dataframe tbody tr th {\n",
       "        vertical-align: top;\n",
       "    }\n",
       "\n",
       "    .dataframe thead th {\n",
       "        text-align: right;\n",
       "    }\n",
       "</style>\n",
       "<table border=\"1\" class=\"dataframe\">\n",
       "  <thead>\n",
       "    <tr style=\"text-align: right;\">\n",
       "      <th></th>\n",
       "      <th>MSFT</th>\n",
       "      <th>AAPL</th>\n",
       "    </tr>\n",
       "  </thead>\n",
       "  <tbody>\n",
       "    <tr>\n",
       "      <th>MSFT</th>\n",
       "      <td>1.000000</td>\n",
       "      <td>0.486331</td>\n",
       "    </tr>\n",
       "    <tr>\n",
       "      <th>AAPL</th>\n",
       "      <td>0.486331</td>\n",
       "      <td>1.000000</td>\n",
       "    </tr>\n",
       "  </tbody>\n",
       "</table>\n",
       "</div>"
      ],
      "text/plain": [
       "          MSFT      AAPL\n",
       "MSFT  1.000000  0.486331\n",
       "AAPL  0.486331  1.000000"
      ]
     },
     "execution_count": 18,
     "metadata": {},
     "output_type": "execute_result"
    }
   ],
   "source": [
    "corr_matrix = sec_returns.corr()\n",
    "corr_matrix"
   ]
  },
  {
   "cell_type": "markdown",
   "metadata": {},
   "source": [
    "## Calculating Portfolio Risk"
   ]
  },
  {
   "cell_type": "markdown",
   "metadata": {},
   "source": [
    "Equal weigthing scheme:"
   ]
  },
  {
   "cell_type": "code",
   "execution_count": 19,
   "metadata": {},
   "outputs": [],
   "source": [
    "weights = np.array([0.5, 0.5])"
   ]
  },
  {
   "cell_type": "markdown",
   "metadata": {},
   "source": [
    "Portfolio Variance:"
   ]
  },
  {
   "cell_type": "code",
   "execution_count": 20,
   "metadata": {},
   "outputs": [
    {
     "data": {
      "text/plain": [
       "0.065007736876889391"
      ]
     },
     "execution_count": 20,
     "metadata": {},
     "output_type": "execute_result"
    }
   ],
   "source": [
    "pfolio_var = np.dot(weights.T, np.dot(sec_returns.cov() * 250, weights))\n",
    "pfolio_var"
   ]
  },
  {
   "cell_type": "markdown",
   "metadata": {},
   "source": [
    "Portfolio Volatility:"
   ]
  },
  {
   "cell_type": "code",
   "execution_count": 21,
   "metadata": {},
   "outputs": [
    {
     "data": {
      "text/plain": [
       "0.25496614849208787"
      ]
     },
     "execution_count": 21,
     "metadata": {},
     "output_type": "execute_result"
    }
   ],
   "source": [
    "pfolio_vol = (np.dot(weights.T, np.dot(sec_returns.cov() * 250, weights))) ** 0.5\n",
    "pfolio_vol"
   ]
  },
  {
   "cell_type": "code",
   "execution_count": 22,
   "metadata": {},
   "outputs": [
    {
     "name": "stdout",
     "output_type": "stream",
     "text": [
      "25.497 %\n"
     ]
    }
   ],
   "source": [
    "print str(round(pfolio_vol, 5) * 100) + ' %'"
   ]
  }
 ],
 "metadata": {
  "kernelspec": {
   "display_name": "Python 2",
   "language": "python",
   "name": "python2"
  },
  "language_info": {
   "codemirror_mode": {
    "name": "ipython",
    "version": 2
   },
   "file_extension": ".py",
   "mimetype": "text/x-python",
   "name": "python",
   "nbconvert_exporter": "python",
   "pygments_lexer": "ipython2",
   "version": "2.7.15"
  }
 },
 "nbformat": 4,
 "nbformat_minor": 2
}
