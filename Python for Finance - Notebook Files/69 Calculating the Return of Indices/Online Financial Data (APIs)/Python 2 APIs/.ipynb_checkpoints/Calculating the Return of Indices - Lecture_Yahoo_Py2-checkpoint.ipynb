{
 "cells": [
  {
   "cell_type": "code",
   "execution_count": null,
   "metadata": {},
   "outputs": [],
   "source": [
    "import numpy as np\n",
    "import pandas as pd\n",
    "from pandas_datareader import data as wb\n",
    "import matplotlib.pyplot as plt"
   ]
  },
  {
   "cell_type": "code",
   "execution_count": null,
   "metadata": {},
   "outputs": [],
   "source": [
    "tickers = ['^GSPC', '^IXIC', '^GDAXI']\n",
    "\n",
    "ind_data = pd.DataFrame()\n",
    "\n",
    "for t in tickers:\n",
    "    ind_data[t] = wb.DataReader(t, data_source='yahoo', start='1997-1-1')['Adj Close']"
   ]
  },
  {
   "cell_type": "code",
   "execution_count": null,
   "metadata": {},
   "outputs": [],
   "source": [
    "ind_data.head()"
   ]
  },
  {
   "cell_type": "code",
   "execution_count": null,
   "metadata": {},
   "outputs": [],
   "source": [
    "ind_data.tail()"
   ]
  },
  {
   "cell_type": "code",
   "execution_count": null,
   "metadata": {},
   "outputs": [],
   "source": [
    "(ind_data / ind_data.iloc[0] * 100).plot(figsize=(15, 6));\n",
    "plt.show()"
   ]
  },
  {
   "cell_type": "code",
   "execution_count": null,
   "metadata": {},
   "outputs": [],
   "source": [
    "ind_returns = (ind_data / ind_data.shift(1)) - 1\n",
    "\n",
    "ind_returns.tail()"
   ]
  },
  {
   "cell_type": "code",
   "execution_count": null,
   "metadata": {},
   "outputs": [],
   "source": [
    "annual_ind_returns = ind_returns.mean() * 250\n",
    "annual_ind_returns"
   ]
  },
  {
   "cell_type": "markdown",
   "metadata": {},
   "source": [
    "***"
   ]
  },
  {
   "cell_type": "code",
   "execution_count": null,
   "metadata": {},
   "outputs": [],
   "source": [
    "tickers = ['PG', '^GSPC', '^DJI']\n",
    "\n",
    "data_2 = pd.DataFrame()\n",
    "\n",
    "for t in tickers:\n",
    "    data_2[t] = wb.DataReader(t, data_source='yahoo', start='2007-1-1')['Adj Close']    "
   ]
  },
  {
   "cell_type": "code",
   "execution_count": null,
   "metadata": {},
   "outputs": [],
   "source": [
    "data_2.tail()"
   ]
  },
  {
   "cell_type": "code",
   "execution_count": null,
   "metadata": {},
   "outputs": [],
   "source": [
    "(data_2 / data_2.iloc[0] * 100).plot(figsize=(15, 6));\n",
    "plt.show()"
   ]
  }
 ],
 "metadata": {
  "kernelspec": {
   "display_name": "Python 2",
   "language": "python",
   "name": "python2"
  },
  "language_info": {
   "codemirror_mode": {
    "name": "ipython",
    "version": 2
   },
   "file_extension": ".py",
   "mimetype": "text/x-python",
   "name": "python",
   "nbconvert_exporter": "python",
   "pygments_lexer": "ipython2",
   "version": "2.7.15"
  }
 },
 "nbformat": 4,
 "nbformat_minor": 2
}
