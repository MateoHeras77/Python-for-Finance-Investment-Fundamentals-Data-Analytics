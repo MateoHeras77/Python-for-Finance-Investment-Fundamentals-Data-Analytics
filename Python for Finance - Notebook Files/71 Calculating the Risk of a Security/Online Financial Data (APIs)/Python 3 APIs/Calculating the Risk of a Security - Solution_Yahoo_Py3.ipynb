{
 "cells": [
  {
   "cell_type": "markdown",
   "metadata": {},
   "source": [
    "## Calculating the Risk of a Security"
   ]
  },
  {
   "cell_type": "markdown",
   "metadata": {},
   "source": [
    "*Suggested Answers follow (usually there are multiple ways to solve a problem in Python).*"
   ]
  },
  {
   "cell_type": "markdown",
   "metadata": {},
   "source": [
    "Download the data for Microsoft (‘MSFT’) from Yahoo Finance for the period ‘2000-1-1’ until today. <br />\n",
    "Assess the daily and the annual risk of ‘MSFT’. Repeat the exercise for Apple for the same timeframe. "
   ]
  },
  {
   "cell_type": "code",
   "execution_count": 1,
   "metadata": {},
   "outputs": [],
   "source": [
    "import numpy as np\n",
    "import pandas as pd\n",
    "from pandas_datareader import data as wb\n",
    "import matplotlib.pyplot as plt"
   ]
  },
  {
   "cell_type": "code",
   "execution_count": 2,
   "metadata": {},
   "outputs": [],
   "source": [
    "tickers = ['MSFT', 'AAPL']\n",
    "\n",
    "data = pd.DataFrame()\n",
    "\n",
    "for t in tickers:\n",
    "    data[t] = wb.DataReader(t, data_source='yahoo', start='2000-1-1')['Adj Close']"
   ]
  },
  {
   "cell_type": "code",
   "execution_count": 3,
   "metadata": {},
   "outputs": [
    {
     "data": {
      "text/html": [
       "<div>\n",
       "<style scoped>\n",
       "    .dataframe tbody tr th:only-of-type {\n",
       "        vertical-align: middle;\n",
       "    }\n",
       "\n",
       "    .dataframe tbody tr th {\n",
       "        vertical-align: top;\n",
       "    }\n",
       "\n",
       "    .dataframe thead th {\n",
       "        text-align: right;\n",
       "    }\n",
       "</style>\n",
       "<table border=\"1\" class=\"dataframe\">\n",
       "  <thead>\n",
       "    <tr style=\"text-align: right;\">\n",
       "      <th></th>\n",
       "      <th>MSFT</th>\n",
       "      <th>AAPL</th>\n",
       "    </tr>\n",
       "    <tr>\n",
       "      <th>Date</th>\n",
       "      <th></th>\n",
       "      <th></th>\n",
       "    </tr>\n",
       "  </thead>\n",
       "  <tbody>\n",
       "    <tr>\n",
       "      <th>2000-01-03</th>\n",
       "      <td>NaN</td>\n",
       "      <td>NaN</td>\n",
       "    </tr>\n",
       "    <tr>\n",
       "      <th>2000-01-04</th>\n",
       "      <td>-0.034364</td>\n",
       "      <td>-0.088078</td>\n",
       "    </tr>\n",
       "    <tr>\n",
       "      <th>2000-01-05</th>\n",
       "      <td>0.010489</td>\n",
       "      <td>0.014528</td>\n",
       "    </tr>\n",
       "    <tr>\n",
       "      <th>2000-01-06</th>\n",
       "      <td>-0.034072</td>\n",
       "      <td>-0.090514</td>\n",
       "    </tr>\n",
       "    <tr>\n",
       "      <th>2000-01-07</th>\n",
       "      <td>0.012983</td>\n",
       "      <td>0.046281</td>\n",
       "    </tr>\n",
       "    <tr>\n",
       "      <th>2000-01-10</th>\n",
       "      <td>0.007265</td>\n",
       "      <td>-0.017745</td>\n",
       "    </tr>\n",
       "    <tr>\n",
       "      <th>2000-01-11</th>\n",
       "      <td>-0.025947</td>\n",
       "      <td>-0.052505</td>\n",
       "    </tr>\n",
       "    <tr>\n",
       "      <th>2000-01-12</th>\n",
       "      <td>-0.033114</td>\n",
       "      <td>-0.061847</td>\n",
       "    </tr>\n",
       "    <tr>\n",
       "      <th>2000-01-13</th>\n",
       "      <td>0.018725</td>\n",
       "      <td>0.104069</td>\n",
       "    </tr>\n",
       "    <tr>\n",
       "      <th>2000-01-14</th>\n",
       "      <td>0.040335</td>\n",
       "      <td>0.037405</td>\n",
       "    </tr>\n",
       "    <tr>\n",
       "      <th>2000-01-18</th>\n",
       "      <td>0.026917</td>\n",
       "      <td>0.034254</td>\n",
       "    </tr>\n",
       "    <tr>\n",
       "      <th>2000-01-19</th>\n",
       "      <td>-0.074817</td>\n",
       "      <td>0.024942</td>\n",
       "    </tr>\n",
       "    <tr>\n",
       "      <th>2000-01-20</th>\n",
       "      <td>-0.009390</td>\n",
       "      <td>0.063071</td>\n",
       "    </tr>\n",
       "    <tr>\n",
       "      <th>2000-01-21</th>\n",
       "      <td>-0.021455</td>\n",
       "      <td>-0.019461</td>\n",
       "    </tr>\n",
       "    <tr>\n",
       "      <th>2000-01-24</th>\n",
       "      <td>-0.024391</td>\n",
       "      <td>-0.046547</td>\n",
       "    </tr>\n",
       "    <tr>\n",
       "      <th>2000-01-25</th>\n",
       "      <td>0.015314</td>\n",
       "      <td>0.054933</td>\n",
       "    </tr>\n",
       "    <tr>\n",
       "      <th>2000-01-26</th>\n",
       "      <td>-0.034006</td>\n",
       "      <td>-0.018545</td>\n",
       "    </tr>\n",
       "    <tr>\n",
       "      <th>2000-01-27</th>\n",
       "      <td>-0.006309</td>\n",
       "      <td>-0.001703</td>\n",
       "    </tr>\n",
       "    <tr>\n",
       "      <th>2000-01-28</th>\n",
       "      <td>-0.005076</td>\n",
       "      <td>-0.079190</td>\n",
       "    </tr>\n",
       "    <tr>\n",
       "      <th>2000-01-31</th>\n",
       "      <td>-0.003825</td>\n",
       "      <td>0.020694</td>\n",
       "    </tr>\n",
       "    <tr>\n",
       "      <th>2000-02-01</th>\n",
       "      <td>0.050431</td>\n",
       "      <td>-0.034317</td>\n",
       "    </tr>\n",
       "    <tr>\n",
       "      <th>2000-02-02</th>\n",
       "      <td>-0.020859</td>\n",
       "      <td>-0.014443</td>\n",
       "    </tr>\n",
       "    <tr>\n",
       "      <th>2000-02-03</th>\n",
       "      <td>0.027515</td>\n",
       "      <td>0.044534</td>\n",
       "    </tr>\n",
       "    <tr>\n",
       "      <th>2000-02-04</th>\n",
       "      <td>0.027954</td>\n",
       "      <td>0.044373</td>\n",
       "    </tr>\n",
       "    <tr>\n",
       "      <th>2000-02-07</th>\n",
       "      <td>0.000586</td>\n",
       "      <td>0.054615</td>\n",
       "    </tr>\n",
       "    <tr>\n",
       "      <th>2000-02-08</th>\n",
       "      <td>0.030594</td>\n",
       "      <td>0.007098</td>\n",
       "    </tr>\n",
       "    <tr>\n",
       "      <th>2000-02-09</th>\n",
       "      <td>-0.055522</td>\n",
       "      <td>-0.019781</td>\n",
       "    </tr>\n",
       "    <tr>\n",
       "      <th>2000-02-10</th>\n",
       "      <td>0.019049</td>\n",
       "      <td>0.007739</td>\n",
       "    </tr>\n",
       "    <tr>\n",
       "      <th>2000-02-11</th>\n",
       "      <td>-0.058894</td>\n",
       "      <td>-0.042751</td>\n",
       "    </tr>\n",
       "    <tr>\n",
       "      <th>2000-02-14</th>\n",
       "      <td>-0.003132</td>\n",
       "      <td>0.062921</td>\n",
       "    </tr>\n",
       "    <tr>\n",
       "      <th>...</th>\n",
       "      <td>...</td>\n",
       "      <td>...</td>\n",
       "    </tr>\n",
       "    <tr>\n",
       "      <th>2018-12-20</th>\n",
       "      <td>-0.021248</td>\n",
       "      <td>-0.025558</td>\n",
       "    </tr>\n",
       "    <tr>\n",
       "      <th>2018-12-21</th>\n",
       "      <td>-0.032846</td>\n",
       "      <td>-0.039672</td>\n",
       "    </tr>\n",
       "    <tr>\n",
       "      <th>2018-12-24</th>\n",
       "      <td>-0.042635</td>\n",
       "      <td>-0.026215</td>\n",
       "    </tr>\n",
       "    <tr>\n",
       "      <th>2018-12-26</th>\n",
       "      <td>0.066078</td>\n",
       "      <td>0.068053</td>\n",
       "    </tr>\n",
       "    <tr>\n",
       "      <th>2018-12-27</th>\n",
       "      <td>0.006147</td>\n",
       "      <td>-0.006511</td>\n",
       "    </tr>\n",
       "    <tr>\n",
       "      <th>2018-12-28</th>\n",
       "      <td>-0.007839</td>\n",
       "      <td>0.000512</td>\n",
       "    </tr>\n",
       "    <tr>\n",
       "      <th>2018-12-31</th>\n",
       "      <td>0.011686</td>\n",
       "      <td>0.009619</td>\n",
       "    </tr>\n",
       "    <tr>\n",
       "      <th>2019-01-02</th>\n",
       "      <td>-0.004440</td>\n",
       "      <td>0.001140</td>\n",
       "    </tr>\n",
       "    <tr>\n",
       "      <th>2019-01-03</th>\n",
       "      <td>-0.037482</td>\n",
       "      <td>-0.104924</td>\n",
       "    </tr>\n",
       "    <tr>\n",
       "      <th>2019-01-04</th>\n",
       "      <td>0.045460</td>\n",
       "      <td>0.041803</td>\n",
       "    </tr>\n",
       "    <tr>\n",
       "      <th>2019-01-07</th>\n",
       "      <td>0.001275</td>\n",
       "      <td>-0.002228</td>\n",
       "    </tr>\n",
       "    <tr>\n",
       "      <th>2019-01-08</th>\n",
       "      <td>0.007225</td>\n",
       "      <td>0.018884</td>\n",
       "    </tr>\n",
       "    <tr>\n",
       "      <th>2019-01-09</th>\n",
       "      <td>0.014198</td>\n",
       "      <td>0.016839</td>\n",
       "    </tr>\n",
       "    <tr>\n",
       "      <th>2019-01-10</th>\n",
       "      <td>-0.006446</td>\n",
       "      <td>0.003191</td>\n",
       "    </tr>\n",
       "    <tr>\n",
       "      <th>2019-01-11</th>\n",
       "      <td>-0.007752</td>\n",
       "      <td>-0.009867</td>\n",
       "    </tr>\n",
       "    <tr>\n",
       "      <th>2019-01-14</th>\n",
       "      <td>-0.007322</td>\n",
       "      <td>-0.015151</td>\n",
       "    </tr>\n",
       "    <tr>\n",
       "      <th>2019-01-15</th>\n",
       "      <td>0.028593</td>\n",
       "      <td>0.020260</td>\n",
       "    </tr>\n",
       "    <tr>\n",
       "      <th>2019-01-16</th>\n",
       "      <td>0.003517</td>\n",
       "      <td>0.012143</td>\n",
       "    </tr>\n",
       "    <tr>\n",
       "      <th>2019-01-17</th>\n",
       "      <td>0.006998</td>\n",
       "      <td>0.005920</td>\n",
       "    </tr>\n",
       "    <tr>\n",
       "      <th>2019-01-18</th>\n",
       "      <td>0.014872</td>\n",
       "      <td>0.006141</td>\n",
       "    </tr>\n",
       "    <tr>\n",
       "      <th>2019-01-22</th>\n",
       "      <td>-0.019027</td>\n",
       "      <td>-0.022702</td>\n",
       "    </tr>\n",
       "    <tr>\n",
       "      <th>2019-01-23</th>\n",
       "      <td>0.009699</td>\n",
       "      <td>0.004036</td>\n",
       "    </tr>\n",
       "    <tr>\n",
       "      <th>2019-01-24</th>\n",
       "      <td>-0.004791</td>\n",
       "      <td>-0.007958</td>\n",
       "    </tr>\n",
       "    <tr>\n",
       "      <th>2019-01-25</th>\n",
       "      <td>0.009092</td>\n",
       "      <td>0.032600</td>\n",
       "    </tr>\n",
       "    <tr>\n",
       "      <th>2019-01-28</th>\n",
       "      <td>-0.019694</td>\n",
       "      <td>-0.009298</td>\n",
       "    </tr>\n",
       "    <tr>\n",
       "      <th>2019-01-29</th>\n",
       "      <td>-0.020576</td>\n",
       "      <td>-0.010419</td>\n",
       "    </tr>\n",
       "    <tr>\n",
       "      <th>2019-01-30</th>\n",
       "      <td>0.032871</td>\n",
       "      <td>0.066101</td>\n",
       "    </tr>\n",
       "    <tr>\n",
       "      <th>2019-01-31</th>\n",
       "      <td>-0.018501</td>\n",
       "      <td>0.007175</td>\n",
       "    </tr>\n",
       "    <tr>\n",
       "      <th>2019-02-01</th>\n",
       "      <td>-0.015926</td>\n",
       "      <td>0.000481</td>\n",
       "    </tr>\n",
       "    <tr>\n",
       "      <th>2019-02-05</th>\n",
       "      <td>0.037618</td>\n",
       "      <td>0.044859</td>\n",
       "    </tr>\n",
       "  </tbody>\n",
       "</table>\n",
       "<p>4802 rows × 2 columns</p>\n",
       "</div>"
      ],
      "text/plain": [
       "                MSFT      AAPL\n",
       "Date                          \n",
       "2000-01-03       NaN       NaN\n",
       "2000-01-04 -0.034364 -0.088078\n",
       "2000-01-05  0.010489  0.014528\n",
       "2000-01-06 -0.034072 -0.090514\n",
       "2000-01-07  0.012983  0.046281\n",
       "2000-01-10  0.007265 -0.017745\n",
       "2000-01-11 -0.025947 -0.052505\n",
       "2000-01-12 -0.033114 -0.061847\n",
       "2000-01-13  0.018725  0.104069\n",
       "2000-01-14  0.040335  0.037405\n",
       "2000-01-18  0.026917  0.034254\n",
       "2000-01-19 -0.074817  0.024942\n",
       "2000-01-20 -0.009390  0.063071\n",
       "2000-01-21 -0.021455 -0.019461\n",
       "2000-01-24 -0.024391 -0.046547\n",
       "2000-01-25  0.015314  0.054933\n",
       "2000-01-26 -0.034006 -0.018545\n",
       "2000-01-27 -0.006309 -0.001703\n",
       "2000-01-28 -0.005076 -0.079190\n",
       "2000-01-31 -0.003825  0.020694\n",
       "2000-02-01  0.050431 -0.034317\n",
       "2000-02-02 -0.020859 -0.014443\n",
       "2000-02-03  0.027515  0.044534\n",
       "2000-02-04  0.027954  0.044373\n",
       "2000-02-07  0.000586  0.054615\n",
       "2000-02-08  0.030594  0.007098\n",
       "2000-02-09 -0.055522 -0.019781\n",
       "2000-02-10  0.019049  0.007739\n",
       "2000-02-11 -0.058894 -0.042751\n",
       "2000-02-14 -0.003132  0.062921\n",
       "...              ...       ...\n",
       "2018-12-20 -0.021248 -0.025558\n",
       "2018-12-21 -0.032846 -0.039672\n",
       "2018-12-24 -0.042635 -0.026215\n",
       "2018-12-26  0.066078  0.068053\n",
       "2018-12-27  0.006147 -0.006511\n",
       "2018-12-28 -0.007839  0.000512\n",
       "2018-12-31  0.011686  0.009619\n",
       "2019-01-02 -0.004440  0.001140\n",
       "2019-01-03 -0.037482 -0.104924\n",
       "2019-01-04  0.045460  0.041803\n",
       "2019-01-07  0.001275 -0.002228\n",
       "2019-01-08  0.007225  0.018884\n",
       "2019-01-09  0.014198  0.016839\n",
       "2019-01-10 -0.006446  0.003191\n",
       "2019-01-11 -0.007752 -0.009867\n",
       "2019-01-14 -0.007322 -0.015151\n",
       "2019-01-15  0.028593  0.020260\n",
       "2019-01-16  0.003517  0.012143\n",
       "2019-01-17  0.006998  0.005920\n",
       "2019-01-18  0.014872  0.006141\n",
       "2019-01-22 -0.019027 -0.022702\n",
       "2019-01-23  0.009699  0.004036\n",
       "2019-01-24 -0.004791 -0.007958\n",
       "2019-01-25  0.009092  0.032600\n",
       "2019-01-28 -0.019694 -0.009298\n",
       "2019-01-29 -0.020576 -0.010419\n",
       "2019-01-30  0.032871  0.066101\n",
       "2019-01-31 -0.018501  0.007175\n",
       "2019-02-01 -0.015926  0.000481\n",
       "2019-02-05  0.037618  0.044859\n",
       "\n",
       "[4802 rows x 2 columns]"
      ]
     },
     "execution_count": 3,
     "metadata": {},
     "output_type": "execute_result"
    }
   ],
   "source": [
    "returns = np.log(data / data.shift(1))\n",
    "returns"
   ]
  },
  {
   "cell_type": "markdown",
   "metadata": {},
   "source": [
    "### MSFT"
   ]
  },
  {
   "cell_type": "markdown",
   "metadata": {},
   "source": [
    "Daily risk:"
   ]
  },
  {
   "cell_type": "code",
   "execution_count": 4,
   "metadata": {},
   "outputs": [
    {
     "data": {
      "text/plain": [
       "0.019304486317693093"
      ]
     },
     "execution_count": 4,
     "metadata": {},
     "output_type": "execute_result"
    }
   ],
   "source": [
    "returns['MSFT'].std()"
   ]
  },
  {
   "cell_type": "markdown",
   "metadata": {},
   "source": [
    "Annual risk:"
   ]
  },
  {
   "cell_type": "code",
   "execution_count": 5,
   "metadata": {},
   "outputs": [
    {
     "data": {
      "text/plain": [
       "0.305230729117335"
      ]
     },
     "execution_count": 5,
     "metadata": {},
     "output_type": "execute_result"
    }
   ],
   "source": [
    "returns['MSFT'].std() * 250 ** 0.5"
   ]
  },
  {
   "cell_type": "markdown",
   "metadata": {},
   "source": [
    "### Apple"
   ]
  },
  {
   "cell_type": "markdown",
   "metadata": {},
   "source": [
    "Daily risk:"
   ]
  },
  {
   "cell_type": "code",
   "execution_count": 6,
   "metadata": {},
   "outputs": [
    {
     "data": {
      "text/plain": [
       "0.02688899960488478"
      ]
     },
     "execution_count": 6,
     "metadata": {},
     "output_type": "execute_result"
    }
   ],
   "source": [
    "returns['AAPL'].std()"
   ]
  },
  {
   "cell_type": "markdown",
   "metadata": {},
   "source": [
    "Annual risk:"
   ]
  },
  {
   "cell_type": "code",
   "execution_count": 7,
   "metadata": {},
   "outputs": [
    {
     "data": {
      "text/plain": [
       "0.4251524137740176"
      ]
     },
     "execution_count": 7,
     "metadata": {},
     "output_type": "execute_result"
    }
   ],
   "source": [
    "returns['AAPL'].std() * 250 ** 0.5"
   ]
  },
  {
   "cell_type": "markdown",
   "metadata": {},
   "source": [
    "******"
   ]
  },
  {
   "cell_type": "markdown",
   "metadata": {},
   "source": [
    "Store the volatilities of the two stocks in an array called \"vols\"."
   ]
  },
  {
   "cell_type": "code",
   "execution_count": 8,
   "metadata": {},
   "outputs": [
    {
     "data": {
      "text/plain": [
       "MSFT    0.305231\n",
       "AAPL    0.425152\n",
       "dtype: float64"
      ]
     },
     "execution_count": 8,
     "metadata": {},
     "output_type": "execute_result"
    }
   ],
   "source": [
    "vols = returns[['MSFT', 'AAPL']].std() * 250 ** 0.5\n",
    "vols"
   ]
  },
  {
   "cell_type": "markdown",
   "metadata": {},
   "source": [
    "How are the two risk values different?"
   ]
  }
 ],
 "metadata": {
  "kernelspec": {
   "display_name": "Python 3",
   "language": "python",
   "name": "python3"
  },
  "language_info": {
   "codemirror_mode": {
    "name": "ipython",
    "version": 3
   },
   "file_extension": ".py",
   "mimetype": "text/x-python",
   "name": "python",
   "nbconvert_exporter": "python",
   "pygments_lexer": "ipython3",
   "version": "3.7.0"
  }
 },
 "nbformat": 4,
 "nbformat_minor": 2
}
